{
 "cells": [
  {
   "cell_type": "markdown",
   "id": "aefd5777",
   "metadata": {},
   "source": [
    "**Instructions:**\n",
    "\n",
    "duration: 2 hours\n",
    "\n",
    "marks: 30\n",
    "\n",
    "There are five questions below. Each require a portion answered using python in this notebook and a written answer using pen paper.\n",
    "\n",
    "Use comments to make your code readable and interpret the results formally. This is NOT a python or ML exam.\n",
    "\n",
    "Written answers: Briefly answer the following, if applicable, for each question\n",
    "- Justify the selected test\n",
    "- State any assumptions for the test\n",
    "- State and justify the choice of the rejection zone\n",
    "- State the decision, interpret"
   ]
  },
  {
   "cell_type": "code",
   "execution_count": null,
   "id": "5fcc639c",
   "metadata": {},
   "outputs": [],
   "source": [
    "# code snippets that may be useful\n",
    "\n",
    "# !pip install xlrd\n",
    "# df = pd.read_excel('sample.xlsx', sheet_name='sheet2')\n",
    "\n",
    "# stats.norm.cdf(zscore)\n",
    "# stats.t.cdf(tscore, df=df)\n",
    "\n",
    "# stats.norm.ppf(probability)\n",
    "# stats.t.ppf(probability, df=df)\n",
    "\n",
    "# chi_square_stat, p_value = stats.chisquare(observed_values, f_exp=expected_values)\n",
    "\n",
    "# chi_sq_Stat, p_value, deg_freedom, exp_freq = stats.chi2_contingency(quality_array, correction=False)\n",
    "\n",
    "\n",
    "# f_test, p_val = stats.f_oneway(sectionA, sectionB, sectionC)\n",
    "\n",
    "#mod = ols('marks ~ section', data = marks_df).fit()\n",
    "#aov_table = sm.stats.anova_lm(mod, typ=2)\n",
    "#print(aov_table)"
   ]
  },
  {
   "cell_type": "code",
   "execution_count": 80,
   "id": "6a0b9c4a",
   "metadata": {},
   "outputs": [],
   "source": [
    "# import libraries\n",
    "import numpy as np\n",
    "import pandas as pd\n",
    "from scipy import stats\n",
    "\n",
    "# ANOVA\n",
    "import statsmodels.api         as     sm\n",
    "from   statsmodels.formula.api import ols"
   ]
  },
  {
   "cell_type": "code",
   "execution_count": 8,
   "id": "f5a39de3",
   "metadata": {},
   "outputs": [],
   "source": [
    "import os\n",
    "os.chdir(r\"C:\\Users\\sreek\\Desktop\\MSE\\.ipynb_checkpoints\")"
   ]
  },
  {
   "cell_type": "markdown",
   "id": "6603fa31",
   "metadata": {},
   "source": [
    "[Q1] A cable internet service provider ran two campaigns. In one they offered one month free if the subscriber paid for 6 months. In another they offered two months free if the subscriber paid for 12 months. Data relating to both campaigns are in the data workbook sheets q1 and q11.\n",
    "Using formal methods, test if they were both equally effective in winning customers."
   ]
  },
  {
   "cell_type": "code",
   "execution_count": 15,
   "id": "e3bac0ee",
   "metadata": {},
   "outputs": [],
   "source": [
    "data1 = pd.read_excel('midterm_data.xlsx', sheet_name=['q1'])\n",
    "data2 = pd.read_excel('midterm_data.xlsx', sheet_name=['q11']) "
   ]
  },
  {
   "cell_type": "code",
   "execution_count": 43,
   "id": "3b890b3a",
   "metadata": {},
   "outputs": [],
   "source": [
    "#Calculating the Chi square statistic \n",
    "import numpy as np \n",
    "o1 = np.array([19,42])\n",
    "o2 = np.array([12,44])\n",
    "e1 = np.array([16.16,44.84])\n",
    "e2 = np.array([14.84,41.16])\n",
    "a = (o1-e1)**2/e1\n",
    "b = (o2-e2)**2/e2"
   ]
  },
  {
   "cell_type": "code",
   "execution_count": 45,
   "id": "b04a7566",
   "metadata": {},
   "outputs": [
    {
     "data": {
      "text/plain": [
       "1.4184453055642299"
      ]
     },
     "execution_count": 45,
     "metadata": {},
     "output_type": "execute_result"
    }
   ],
   "source": [
    "np.sum(a)+np.sum(b) #This is the chi square statistic we got "
   ]
  },
  {
   "cell_type": "code",
   "execution_count": 48,
   "id": "b5db6dc4",
   "metadata": {},
   "outputs": [
    {
     "data": {
      "text/plain": [
       "0.23373287392671177"
      ]
     },
     "execution_count": 48,
     "metadata": {},
     "output_type": "execute_result"
    }
   ],
   "source": [
    "# Setting a significance level of 0.05 becasue, beta error would be more costly than alpha error in this case \n",
    "from scipy import stats \n",
    "#calculating p value, Right tail test \n",
    "stats.chi2.sf(1.418,1)"
   ]
  },
  {
   "cell_type": "markdown",
   "id": "52ae27d9",
   "metadata": {},
   "source": [
    "Null Hypothesis is not rejected. "
   ]
  },
  {
   "cell_type": "markdown",
   "id": "8473ce44",
   "metadata": {},
   "source": [
    "[Q2] The agents of the cable internet company are required to make phone calls to customers and offer them deals and win subscriptions. A metric in this process is the number of calls made per day. Initially the agents were paid fixed salary without any incentives for winning new customers. The management recently changed this and offered incentives to the agents hoping they will make more calls per day. This information is available in sheet q2. The columns are Calls_Salary and Calls_Incentive for each agent.\n",
    "\n",
    "You are required to test if the change in payment to include incentives for winning customers has increased the number of calls made per day."
   ]
  },
  {
   "cell_type": "code",
   "execution_count": 95,
   "id": "2556cac3",
   "metadata": {},
   "outputs": [
    {
     "name": "stdout",
     "output_type": "stream",
     "text": [
      "teststat: 4.397488713878129\n"
     ]
    }
   ],
   "source": [
    "#Number of calls with salary and number of calls made with incentive is given \n",
    "# We are checking if mu2>mu1 paired sample  \n",
    "#Null : mu2<= m1 #Right tail test \n",
    "#Alpha = 0.01\n",
    "n1 = 59\n",
    "n2 = 59 \n",
    "x1 = 7.237\n",
    "x2 = 10.81 \n",
    "s2 = 5.74 \n",
    "s1 = 2.45\n",
    "denom = ((s1**2/n1)+(s2**2/n2))**0.5\n",
    "stat = (x2-x1)/denom\n",
    "print(\"teststat:\",stat)"
   ]
  },
  {
   "cell_type": "code",
   "execution_count": 96,
   "id": "0fdf0c8b",
   "metadata": {},
   "outputs": [
    {
     "data": {
      "text/plain": [
       "5.475528863978107e-06"
      ]
     },
     "execution_count": 96,
     "metadata": {},
     "output_type": "execute_result"
    }
   ],
   "source": [
    "stats.norm.sf(4.397488713878129)"
   ]
  },
  {
   "cell_type": "markdown",
   "id": "d520720c",
   "metadata": {},
   "source": [
    "p-value is less than alpha so the null hypothesis is rejected. This means, giving incentives is indeed improving the performance, as per the available evidence."
   ]
  },
  {
   "cell_type": "markdown",
   "id": "ffb0ddae",
   "metadata": {},
   "source": [
    "[Q3] University requires grades to be distributed according to their norms:\n",
    "A (5%), B(30%), C(50%), D(10%), F(5%) \n",
    "For a recent exam, the grades were as given in sheet q3.\n",
    "\n",
    "Test if this follows the norms."
   ]
  },
  {
   "cell_type": "code",
   "execution_count": 51,
   "id": "fe095cb1",
   "metadata": {},
   "outputs": [],
   "source": [
    "data3 = pd.read_excel('midterm_data.xlsx', sheet_name=['q3'])"
   ]
  },
  {
   "cell_type": "code",
   "execution_count": 59,
   "id": "f08a789a",
   "metadata": {},
   "outputs": [],
   "source": [
    "observed = [6,5,9,8,7]\n",
    "expected = [1.75,10.5,17.5,3.5,1.75]"
   ]
  },
  {
   "cell_type": "code",
   "execution_count": 61,
   "id": "6e4d6ad9",
   "metadata": {},
   "outputs": [],
   "source": [
    "chi_square_stat, p_value = stats.chisquare(observed, f_exp=expected)"
   ]
  },
  {
   "cell_type": "code",
   "execution_count": 62,
   "id": "674cf39a",
   "metadata": {},
   "outputs": [
    {
     "data": {
      "text/plain": [
       "7.422492853897377e-08"
      ]
     },
     "execution_count": 62,
     "metadata": {},
     "output_type": "execute_result"
    }
   ],
   "source": [
    "p_value #Near 0 p-value "
   ]
  },
  {
   "cell_type": "markdown",
   "id": "9c8bd0cf",
   "metadata": {},
   "source": [
    "Null Hypothesis is rejected"
   ]
  },
  {
   "cell_type": "markdown",
   "id": "9c9f590e",
   "metadata": {},
   "source": [
    "[Q4] There are keen discussions about online vs classroom in various segments of the society. Using the data in sheet q3, test if performance of students is impacted by the mode of engagement."
   ]
  },
  {
   "cell_type": "code",
   "execution_count": 63,
   "id": "5dfd526e",
   "metadata": {},
   "outputs": [],
   "source": [
    "#A chi square test of independence is to be done here as we are dealing with categorical variables \n",
    "data3 = pd.read_excel('midterm_data.xlsx', sheet_name=['q3'])"
   ]
  },
  {
   "cell_type": "code",
   "execution_count": 77,
   "id": "940ef506",
   "metadata": {},
   "outputs": [
    {
     "data": {
      "text/plain": [
       "4.851546688197964"
      ]
     },
     "execution_count": 77,
     "metadata": {},
     "output_type": "execute_result"
    }
   ],
   "source": [
    "oa = np.array([6,0])\n",
    "ob = np.array([3,2])\n",
    "oc = np.array([5,4])\n",
    "od = np.array([5,3])\n",
    "of = np.array([6,1])\n",
    "ea = np.array([4.28,1.72])\n",
    "eb = np.array([3.57,1.43])\n",
    "ec = np.array([6.43,2.57])\n",
    "ed = np.array([5.71,2.29])\n",
    "ef = np.array([5,2])\n",
    "a = (oa-ea)**2/ea\n",
    "b = (ob-eb)**2/eb\n",
    "c = (oc-ec)**2/ec\n",
    "d = (od-ed)**2/ed\n",
    "f = (of-ef)**2/ef\n",
    "np.sum(a)+np.sum(b)+np.sum(c)+np.sum(d)+np.sum(f)"
   ]
  },
  {
   "cell_type": "code",
   "execution_count": 79,
   "id": "be907cbf",
   "metadata": {},
   "outputs": [
    {
     "data": {
      "text/plain": [
       "0.30303755771914903"
      ]
     },
     "execution_count": 79,
     "metadata": {},
     "output_type": "execute_result"
    }
   ],
   "source": [
    "#Calculating the p-value\n",
    "stats.chi2.sf(4.85,1*4) #(n-1)*(r-1)"
   ]
  },
  {
   "cell_type": "markdown",
   "id": "71d78aef",
   "metadata": {},
   "source": [
    "Null Hypothesis is not rejected "
   ]
  },
  {
   "cell_type": "markdown",
   "id": "1793308f",
   "metadata": {},
   "source": [
    "[Q5] The university conducted a course in three centeres and assigned the same question paper. The VC  wants to compare performance of the three batches. Refer to sheet q5 to answer this query."
   ]
  },
  {
   "cell_type": "code",
   "execution_count": null,
   "id": "ad389e4e",
   "metadata": {},
   "outputs": [],
   "source": [
    "#Testing for normality and Variance -Same"
   ]
  },
  {
   "cell_type": "code",
   "execution_count": 85,
   "id": "df9575d8",
   "metadata": {},
   "outputs": [
    {
     "data": {
      "text/plain": [
       "ShapiroResult(statistic=0.9348101615905762, pvalue=0.05935411900281906)"
      ]
     },
     "execution_count": 85,
     "metadata": {},
     "output_type": "execute_result"
    }
   ],
   "source": [
    "import scipy\n",
    "scipy.stats.shapiro(b1) #P-value is slightly greater than 0.05 so null is accepted - its a normal distribution "
   ]
  },
  {
   "cell_type": "code",
   "execution_count": 86,
   "id": "69d68795",
   "metadata": {},
   "outputs": [
    {
     "data": {
      "text/plain": [
       "ShapiroResult(statistic=0.9366849064826965, pvalue=0.06031687557697296)"
      ]
     },
     "execution_count": 86,
     "metadata": {},
     "output_type": "execute_result"
    }
   ],
   "source": [
    "scipy.stats.shapiro(b2)"
   ]
  },
  {
   "cell_type": "code",
   "execution_count": 87,
   "id": "9ef1ee82",
   "metadata": {},
   "outputs": [
    {
     "data": {
      "text/plain": [
       "ShapiroResult(statistic=0.9750015139579773, pvalue=0.6827733516693115)"
      ]
     },
     "execution_count": 87,
     "metadata": {},
     "output_type": "execute_result"
    }
   ],
   "source": [
    "scipy.stats.shapiro(b3)"
   ]
  },
  {
   "cell_type": "code",
   "execution_count": 88,
   "id": "0f27170b",
   "metadata": {},
   "outputs": [
    {
     "data": {
      "text/plain": [
       "LeveneResult(statistic=0.5645287972235011, pvalue=0.57062837923048)"
      ]
     },
     "execution_count": 88,
     "metadata": {},
     "output_type": "execute_result"
    }
   ],
   "source": [
    "scipy.stats.levene(b1,b2,b3) #Null accepted, they have same variance "
   ]
  },
  {
   "cell_type": "code",
   "execution_count": 89,
   "id": "90fc2f63",
   "metadata": {},
   "outputs": [],
   "source": [
    "# Here we want to compare the mean performance of the batches given same paper. \n",
    "# If the means are different, then we can understand that, different batches are at different level. \n",
    "# The lists contain marks of the respective batches \n",
    "b1 = [84,69,74,89,92,71,89,94,66,63,63,79,64,55,75,64,57,67,68,58,60,56,54,90,61,82,80,69,81,86,59,]\n",
    "b2 = [59,91,83,51,83,69,80,55,87,68,85,91,93,73,55,79,93,70,51,76,76,73,81,83,65,84,64,79,70,51,78,91]\n",
    "b3 = [80,87,91,70,75,68,78,61,78,62,93,75,79,88,70,94,67,62,79,50,75,73,74,78,91,84,76,55,61,67]\n",
    "f_test, p_val = stats.f_oneway(b1, b2, b3)"
   ]
  },
  {
   "cell_type": "code",
   "execution_count": 90,
   "id": "cb55a6aa",
   "metadata": {},
   "outputs": [
    {
     "data": {
      "text/plain": [
       "0.5226918265862517"
      ]
     },
     "execution_count": 90,
     "metadata": {},
     "output_type": "execute_result"
    }
   ],
   "source": [
    "p_val"
   ]
  },
  {
   "cell_type": "markdown",
   "id": "6d2d8ba4",
   "metadata": {},
   "source": [
    "Null hypothesis not rejected"
   ]
  }
 ],
 "metadata": {
  "kernelspec": {
   "display_name": "Python 3 (ipykernel)",
   "language": "python",
   "name": "python3"
  },
  "language_info": {
   "codemirror_mode": {
    "name": "ipython",
    "version": 3
   },
   "file_extension": ".py",
   "mimetype": "text/x-python",
   "name": "python",
   "nbconvert_exporter": "python",
   "pygments_lexer": "ipython3",
   "version": "3.9.7"
  }
 },
 "nbformat": 4,
 "nbformat_minor": 5
}
