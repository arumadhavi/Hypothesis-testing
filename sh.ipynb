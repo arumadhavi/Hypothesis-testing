{
 "cells": [
  {
   "cell_type": "markdown",
   "id": "aefd5777",
   "metadata": {},
   "source": [
    "**Instructions:**\n",
    "\n",
    "duration: 2 hours\n",
    "\n",
    "marks: 30\n",
    "\n",
    "There are five questions below. Each require a portion answered using python in this notebook and a written answer using pen paper.\n",
    "\n",
    "Use comments to make your code readable and interpret the results formally. This is NOT a python or ML exam.\n",
    "\n",
    "Written answers: Briefly answer the following, if applicable, for each question\n",
    "- Justify the selected test\n",
    "- State any assumptions for the test\n",
    "- State and justify the choice of the rejection zone\n",
    "- State the decision, interpret"
   ]
  },
  {
   "cell_type": "code",
   "execution_count": 1,
   "id": "5fcc639c",
   "metadata": {},
   "outputs": [
    {
     "name": "stdout",
     "output_type": "stream",
     "text": [
      "Requirement already satisfied: xlrd in c:\\users\\shimanshu\\anaconda3\\lib\\site-packages (2.0.1)\n"
     ]
    }
   ],
   "source": [
    "# code snippets that may be useful\n",
    "\n",
    "!pip install xlrd\n",
    "# df = pd.read_excel('sample.xlsx', sheet_name='sheet2')\n",
    "\n",
    "# stats.norm.cdf(zscore)\n",
    "# stats.t.cdf(tscore, df=df)\n",
    "\n",
    "# stats.norm.ppf(probability)\n",
    "# stats.t.ppf(probability, df=df)\n",
    "\n",
    "# chi_square_stat, p_value = stats.chisquare(observed_values, f_exp=expected_values)\n",
    "\n",
    "# chi_sq_Stat, p_value, deg_freedom, exp_freq = stats.chi2_contingency(quality_array, correction=False)\n",
    "\n",
    "\n",
    "# f_test, p_val = stats.f_oneway(sectionA, sectionB, sectionC)\n",
    "\n",
    "#mod = ols('marks ~ section', data = marks_df).fit()\n",
    "#aov_table = sm.stats.anova_lm(mod, typ=2)\n",
    "#print(aov_table)"
   ]
  },
  {
   "cell_type": "code",
   "execution_count": 2,
   "id": "6a0b9c4a",
   "metadata": {},
   "outputs": [],
   "source": [
    "# import libraries\n",
    "import numpy as np\n",
    "import pandas as pd\n",
    "from scipy import stats\n",
    "\n",
    "# ANOVA\n",
    "import statsmodels.api         as     sm\n",
    "from   statsmodels.formula.api import ols"
   ]
  },
  {
   "cell_type": "markdown",
   "id": "6603fa31",
   "metadata": {},
   "source": [
    "[Q1] A cable internet service provider ran two campaigns. In one they offered one month free if the subscriber paid for 6 months. In another they offered two months free if the subscriber paid for 12 months. Data relating to both campaigns are in the data workbook sheets q1 and q11.\n",
    "Using formal methods, test if they were both equally effective in winning customers."
   ]
  },
  {
   "cell_type": "raw",
   "id": "0d7dff6f",
   "metadata": {},
   "source": [
    "here we can go for chi-sqaure independence test \n",
    "Ho: result is indepndent of pitch\n",
    "H1: reult is dependent on pitch"
   ]
  },
  {
   "cell_type": "code",
   "execution_count": 4,
   "id": "e3bac0ee",
   "metadata": {},
   "outputs": [],
   "source": [
    "p1 = pd.read_excel('midterm_data.xlsx', sheet_name='q1')\n",
    "p2 = pd.read_excel('midterm_data.xlsx', sheet_name='q11')"
   ]
  },
  {
   "cell_type": "code",
   "execution_count": 12,
   "id": "7132f97e",
   "metadata": {},
   "outputs": [
    {
     "data": {
      "text/plain": [
       "117"
      ]
     },
     "execution_count": 12,
     "metadata": {},
     "output_type": "execute_result"
    }
   ],
   "source": [
    "p=pd.concat([p2,p1],axis=0)\n",
    "len(p)"
   ]
  },
  {
   "cell_type": "code",
   "execution_count": 9,
   "id": "561f6b40",
   "metadata": {},
   "outputs": [
    {
     "data": {
      "text/html": [
       "<div>\n",
       "<style scoped>\n",
       "    .dataframe tbody tr th:only-of-type {\n",
       "        vertical-align: middle;\n",
       "    }\n",
       "\n",
       "    .dataframe tbody tr th {\n",
       "        vertical-align: top;\n",
       "    }\n",
       "\n",
       "    .dataframe thead th {\n",
       "        text-align: right;\n",
       "    }\n",
       "</style>\n",
       "<table border=\"1\" class=\"dataframe\">\n",
       "  <thead>\n",
       "    <tr style=\"text-align: right;\">\n",
       "      <th>result</th>\n",
       "      <th>AcceptedOffer</th>\n",
       "      <th>N</th>\n",
       "    </tr>\n",
       "    <tr>\n",
       "      <th>pitch</th>\n",
       "      <th></th>\n",
       "      <th></th>\n",
       "    </tr>\n",
       "  </thead>\n",
       "  <tbody>\n",
       "    <tr>\n",
       "      <th>pay for 12 months, get 2 months free</th>\n",
       "      <td>12</td>\n",
       "      <td>44</td>\n",
       "    </tr>\n",
       "    <tr>\n",
       "      <th>pay for 6 months, get 1 month free</th>\n",
       "      <td>19</td>\n",
       "      <td>42</td>\n",
       "    </tr>\n",
       "  </tbody>\n",
       "</table>\n",
       "</div>"
      ],
      "text/plain": [
       "result                                AcceptedOffer   N\n",
       "pitch                                                  \n",
       "pay for 12 months, get 2 months free             12  44\n",
       "pay for 6 months, get 1 month free               19  42"
      ]
     },
     "execution_count": 9,
     "metadata": {},
     "output_type": "execute_result"
    }
   ],
   "source": [
    "pd.crosstab(p.pitch,p.result)"
   ]
  },
  {
   "cell_type": "code",
   "execution_count": 18,
   "id": "87088bc5",
   "metadata": {},
   "outputs": [],
   "source": [
    "p1_observed=[12,44] #observed frequency of different results in pitch 1\n",
    "p2_observed=[19,42] #observed frequency of different results in pitch 2\n",
    "val_obs=p1_observed+p2_observed"
   ]
  },
  {
   "cell_type": "code",
   "execution_count": 19,
   "id": "bf42a533",
   "metadata": {},
   "outputs": [],
   "source": [
    "p1_expected=[(12+44)*(12+19)/117,(12+44)*(44+42)/117] # expected frequency of different results in pitch 1\n",
    "p2_expected=[(19+42)*(12+19)/117,(19+42)*(44+42)/117] #expected frequency of different results in pitch 2\n",
    "val_exp=p1_expected+p2_expected"
   ]
  },
  {
   "cell_type": "code",
   "execution_count": 22,
   "id": "f19f4195",
   "metadata": {},
   "outputs": [
    {
     "data": {
      "text/plain": [
       "([14.837606837606838,\n",
       "  41.162393162393165,\n",
       "  16.162393162393162,\n",
       "  44.837606837606835],\n",
       " [12, 44, 19, 42])"
      ]
     },
     "execution_count": 22,
     "metadata": {},
     "output_type": "execute_result"
    }
   ],
   "source": [
    "val_exp,val_obs"
   ]
  },
  {
   "cell_type": "code",
   "execution_count": 23,
   "id": "9a168ab7",
   "metadata": {},
   "outputs": [],
   "source": [
    "sum=0\n",
    "for i in range(len(val_obs)):\n",
    "    a=((val_obs[i]-val_exp[i])**2/val_exp[i])\n",
    "    sum+=a\n",
    "chi2_stat=sum # test stats=sum((obsval-expval)^2/expval)"
   ]
  },
  {
   "cell_type": "code",
   "execution_count": 24,
   "id": "7f138cae",
   "metadata": {},
   "outputs": [
    {
     "data": {
      "text/plain": [
       "1.4160677171634823"
      ]
     },
     "execution_count": 24,
     "metadata": {},
     "output_type": "execute_result"
    }
   ],
   "source": [
    "chi2_stat"
   ]
  },
  {
   "cell_type": "code",
   "execution_count": 25,
   "id": "c25de707",
   "metadata": {},
   "outputs": [
    {
     "data": {
      "text/plain": [
       "3.8414588206941285"
      ]
     },
     "execution_count": 25,
     "metadata": {},
     "output_type": "execute_result"
    }
   ],
   "source": [
    "stats.chi2.isf(0.05,df=1) #df=(r-1)(c-1)"
   ]
  },
  {
   "cell_type": "raw",
   "id": "6e280af8",
   "metadata": {},
   "source": [
    "As chi2_stat< chi_2 critical we cannot reject our null that means our null hypothesis result is indepndent of pitch is true in this case"
   ]
  },
  {
   "cell_type": "markdown",
   "id": "8473ce44",
   "metadata": {},
   "source": [
    "[Q2] The agents of the cable internet company are required to make phone calls to customers and offer them deals and win subscriptions. A metric in this process is the number of calls made per day. Initially the agents were paid fixed salary without any incentives for winning new customers. The management recently changed this and offered incentives to the agents hoping they will make more calls per day. This information is available in sheet q2. The columns are Calls_Salary and Calls_Incentive for each agent.\n",
    "\n",
    "You are required to test if the change in payment to include incentives for winning customers has increased the number of calls made per day."
   ]
  },
  {
   "cell_type": "raw",
   "id": "c66ba13a",
   "metadata": {},
   "source": [
    "here in this case we go 2 population paired t-test\n",
    "h0: Difference in calls are insignificant\n",
    "h1: difference is calls are signifacantly different from zreo"
   ]
  },
  {
   "cell_type": "code",
   "execution_count": 115,
   "id": "4233e314",
   "metadata": {},
   "outputs": [],
   "source": [
    "s1 = pd.read_excel('midterm_data.xlsx', sheet_name='q2')"
   ]
  },
  {
   "cell_type": "code",
   "execution_count": 116,
   "id": "42c8c975",
   "metadata": {},
   "outputs": [],
   "source": [
    "s1['diff']=-s1.Calls_Salary+s1.Calls_Incentive"
   ]
  },
  {
   "cell_type": "code",
   "execution_count": 117,
   "id": "743c9a2b",
   "metadata": {},
   "outputs": [
    {
     "data": {
      "text/plain": [
       "59"
      ]
     },
     "execution_count": 117,
     "metadata": {},
     "output_type": "execute_result"
    }
   ],
   "source": [
    "len(s1)"
   ]
  },
  {
   "cell_type": "code",
   "execution_count": 118,
   "id": "ef967fda",
   "metadata": {},
   "outputs": [],
   "source": [
    "SE=np.std(s1['diff'],ddof=1)/len(s1)**0.5"
   ]
  },
  {
   "cell_type": "code",
   "execution_count": 119,
   "id": "dd249ef6",
   "metadata": {},
   "outputs": [
    {
     "data": {
      "text/plain": [
       "10.252069705503347"
      ]
     },
     "execution_count": 119,
     "metadata": {},
     "output_type": "execute_result"
    }
   ],
   "source": [
    "t_stat=np.mean(s1['diff'])/SE\n",
    "t_stat"
   ]
  },
  {
   "cell_type": "code",
   "execution_count": 120,
   "id": "d3197475",
   "metadata": {},
   "outputs": [
    {
     "data": {
      "text/plain": [
       "(-1.6715527621536728, 1.6448536269514729)"
      ]
     },
     "execution_count": 120,
     "metadata": {},
     "output_type": "execute_result"
    }
   ],
   "source": [
    "t_critical_l = stats.t.ppf(0.05,df=58)\n",
    "t_critical_u = stats.t.isf(0.05,df=58)\n",
    "t_critical_l,z_critical_u"
   ]
  },
  {
   "cell_type": "raw",
   "id": "4f29d7f2",
   "metadata": {},
   "source": [
    "As our t_stat is greater than upper t_critical value so we can say that we can reject null hypothesis that is Difference in calls are insignificant\n",
    "this means by providing incentives company is able to increase the calls"
   ]
  },
  {
   "cell_type": "markdown",
   "id": "ffb0ddae",
   "metadata": {},
   "source": [
    "[Q3] University requires grades to be distributed according to their norms:\n",
    "A (5%), B(30%), C(50%), D(10%), F(5%) \n",
    "For a recent exam, the grades were as given in sheet q3.\n",
    "\n",
    "Test if this follows the norms."
   ]
  },
  {
   "cell_type": "raw",
   "id": "a39c4f8f",
   "metadata": {},
   "source": [
    "here we will go chi_sqaure goodness of fit test to check if our observed values fits the expected probablity distribution\n",
    "h0: all the grades recieves follows expected probability distribution\n",
    "h1: they donot follow expected prob distribution\n",
    "using right tail chi_sqr test for conformation"
   ]
  },
  {
   "cell_type": "code",
   "execution_count": 53,
   "id": "74e1de21",
   "metadata": {},
   "outputs": [],
   "source": [
    "s2 = pd.read_excel('midterm_data.xlsx', sheet_name='q3')"
   ]
  },
  {
   "cell_type": "code",
   "execution_count": 55,
   "id": "d3143115",
   "metadata": {},
   "outputs": [
    {
     "data": {
      "text/html": [
       "<div>\n",
       "<style scoped>\n",
       "    .dataframe tbody tr th:only-of-type {\n",
       "        vertical-align: middle;\n",
       "    }\n",
       "\n",
       "    .dataframe tbody tr th {\n",
       "        vertical-align: top;\n",
       "    }\n",
       "\n",
       "    .dataframe thead th {\n",
       "        text-align: right;\n",
       "    }\n",
       "</style>\n",
       "<table border=\"1\" class=\"dataframe\">\n",
       "  <thead>\n",
       "    <tr style=\"text-align: right;\">\n",
       "      <th></th>\n",
       "      <th>rollnumber</th>\n",
       "      <th>mode</th>\n",
       "      <th>grade</th>\n",
       "    </tr>\n",
       "  </thead>\n",
       "  <tbody>\n",
       "    <tr>\n",
       "      <th>0</th>\n",
       "      <td>1.0</td>\n",
       "      <td>Classroom</td>\n",
       "      <td>D</td>\n",
       "    </tr>\n",
       "    <tr>\n",
       "      <th>1</th>\n",
       "      <td>2.0</td>\n",
       "      <td>Classroom</td>\n",
       "      <td>F</td>\n",
       "    </tr>\n",
       "    <tr>\n",
       "      <th>2</th>\n",
       "      <td>3.0</td>\n",
       "      <td>Classroom</td>\n",
       "      <td>C</td>\n",
       "    </tr>\n",
       "    <tr>\n",
       "      <th>3</th>\n",
       "      <td>4.0</td>\n",
       "      <td>Classroom</td>\n",
       "      <td>C</td>\n",
       "    </tr>\n",
       "    <tr>\n",
       "      <th>4</th>\n",
       "      <td>5.0</td>\n",
       "      <td>Classroom</td>\n",
       "      <td>A</td>\n",
       "    </tr>\n",
       "  </tbody>\n",
       "</table>\n",
       "</div>"
      ],
      "text/plain": [
       "   rollnumber       mode grade\n",
       "0         1.0  Classroom     D\n",
       "1         2.0  Classroom     F\n",
       "2         3.0  Classroom     C\n",
       "3         4.0  Classroom     C\n",
       "4         5.0  Classroom     A"
      ]
     },
     "execution_count": 55,
     "metadata": {},
     "output_type": "execute_result"
    }
   ],
   "source": [
    "s2.head()"
   ]
  },
  {
   "cell_type": "code",
   "execution_count": 61,
   "id": "945b9dfe",
   "metadata": {},
   "outputs": [
    {
     "data": {
      "text/plain": [
       "35"
      ]
     },
     "execution_count": 61,
     "metadata": {},
     "output_type": "execute_result"
    }
   ],
   "source": [
    "len(s2)"
   ]
  },
  {
   "cell_type": "code",
   "execution_count": 60,
   "id": "327366f2",
   "metadata": {},
   "outputs": [
    {
     "data": {
      "text/html": [
       "<div>\n",
       "<style scoped>\n",
       "    .dataframe tbody tr th:only-of-type {\n",
       "        vertical-align: middle;\n",
       "    }\n",
       "\n",
       "    .dataframe tbody tr th {\n",
       "        vertical-align: top;\n",
       "    }\n",
       "\n",
       "    .dataframe thead th {\n",
       "        text-align: right;\n",
       "    }\n",
       "</style>\n",
       "<table border=\"1\" class=\"dataframe\">\n",
       "  <thead>\n",
       "    <tr style=\"text-align: right;\">\n",
       "      <th></th>\n",
       "      <th>rollnumber</th>\n",
       "    </tr>\n",
       "    <tr>\n",
       "      <th>grade</th>\n",
       "      <th></th>\n",
       "    </tr>\n",
       "  </thead>\n",
       "  <tbody>\n",
       "    <tr>\n",
       "      <th>A</th>\n",
       "      <td>6</td>\n",
       "    </tr>\n",
       "    <tr>\n",
       "      <th>B</th>\n",
       "      <td>5</td>\n",
       "    </tr>\n",
       "    <tr>\n",
       "      <th>C</th>\n",
       "      <td>9</td>\n",
       "    </tr>\n",
       "    <tr>\n",
       "      <th>D</th>\n",
       "      <td>8</td>\n",
       "    </tr>\n",
       "    <tr>\n",
       "      <th>F</th>\n",
       "      <td>7</td>\n",
       "    </tr>\n",
       "  </tbody>\n",
       "</table>\n",
       "</div>"
      ],
      "text/plain": [
       "       rollnumber\n",
       "grade            \n",
       "A               6\n",
       "B               5\n",
       "C               9\n",
       "D               8\n",
       "F               7"
      ]
     },
     "execution_count": 60,
     "metadata": {},
     "output_type": "execute_result"
    }
   ],
   "source": [
    "s3=s2[['rollnumber','grade']].groupby(['grade']).count()\n",
    "s3"
   ]
  },
  {
   "cell_type": "code",
   "execution_count": 67,
   "id": "80f3c025",
   "metadata": {},
   "outputs": [],
   "source": [
    "grade_exp=[0.05*35,0.3*35,0.5*35,0.1*35,0.05*35] #expected value exp prob*total students\n",
    "grade_obs=[6,5,9,8,7]"
   ]
  },
  {
   "cell_type": "code",
   "execution_count": 69,
   "id": "3bfe208c",
   "metadata": {},
   "outputs": [],
   "source": [
    "sum1=0\n",
    "for i in range(len(grade_obs)):\n",
    "    a1=((grade_obs[i]-grade_exp[i])**2/grade_exp[i])\n",
    "    sum1+=a1\n",
    "chi2_stat1=sum1"
   ]
  },
  {
   "cell_type": "code",
   "execution_count": 70,
   "id": "291fd25a",
   "metadata": {},
   "outputs": [
    {
     "data": {
      "text/plain": [
       "38.86666666666667"
      ]
     },
     "execution_count": 70,
     "metadata": {},
     "output_type": "execute_result"
    }
   ],
   "source": [
    "chi2_stat1"
   ]
  },
  {
   "cell_type": "code",
   "execution_count": 77,
   "id": "10e75156",
   "metadata": {},
   "outputs": [
    {
     "data": {
      "text/plain": [
       "9.487729036781158"
      ]
     },
     "execution_count": 77,
     "metadata": {},
     "output_type": "execute_result"
    }
   ],
   "source": [
    "stats.chi2.isf(0.05,df=4) #chi2 critical at alpha=0.05,df=n-1"
   ]
  },
  {
   "cell_type": "raw",
   "id": "ebd95fce",
   "metadata": {},
   "source": [
    "As chi_sqr stat is more than chi_sqr critical which is a right tail test so reject or null hypothesis that is all the grades recieves follows expected probability distribution.\n",
    "therefore the grades recieved by students are not following expected prob distribution"
   ]
  },
  {
   "cell_type": "markdown",
   "id": "9c9f590e",
   "metadata": {},
   "source": [
    "[Q4] There are keen discussions about online vs classroom in various segments of the society. Using the data in sheet q3, test if performance of students is impacted by the mode of engagement."
   ]
  },
  {
   "cell_type": "code",
   "execution_count": 78,
   "id": "5dfd526e",
   "metadata": {},
   "outputs": [],
   "source": [
    "s4 = pd.read_excel('midterm_data.xlsx', sheet_name='q3')"
   ]
  },
  {
   "cell_type": "code",
   "execution_count": 81,
   "id": "1986f943",
   "metadata": {},
   "outputs": [
    {
     "data": {
      "text/html": [
       "<div>\n",
       "<style scoped>\n",
       "    .dataframe tbody tr th:only-of-type {\n",
       "        vertical-align: middle;\n",
       "    }\n",
       "\n",
       "    .dataframe tbody tr th {\n",
       "        vertical-align: top;\n",
       "    }\n",
       "\n",
       "    .dataframe thead th {\n",
       "        text-align: right;\n",
       "    }\n",
       "</style>\n",
       "<table border=\"1\" class=\"dataframe\">\n",
       "  <thead>\n",
       "    <tr style=\"text-align: right;\">\n",
       "      <th></th>\n",
       "      <th></th>\n",
       "      <th>rollnumber</th>\n",
       "    </tr>\n",
       "    <tr>\n",
       "      <th>grade</th>\n",
       "      <th>mode</th>\n",
       "      <th></th>\n",
       "    </tr>\n",
       "  </thead>\n",
       "  <tbody>\n",
       "    <tr>\n",
       "      <th>A</th>\n",
       "      <th>Classroom</th>\n",
       "      <td>6</td>\n",
       "    </tr>\n",
       "    <tr>\n",
       "      <th rowspan=\"2\" valign=\"top\">B</th>\n",
       "      <th>Classroom</th>\n",
       "      <td>3</td>\n",
       "    </tr>\n",
       "    <tr>\n",
       "      <th>Online</th>\n",
       "      <td>2</td>\n",
       "    </tr>\n",
       "    <tr>\n",
       "      <th rowspan=\"2\" valign=\"top\">C</th>\n",
       "      <th>Classroom</th>\n",
       "      <td>5</td>\n",
       "    </tr>\n",
       "    <tr>\n",
       "      <th>Online</th>\n",
       "      <td>4</td>\n",
       "    </tr>\n",
       "    <tr>\n",
       "      <th rowspan=\"2\" valign=\"top\">D</th>\n",
       "      <th>Classroom</th>\n",
       "      <td>5</td>\n",
       "    </tr>\n",
       "    <tr>\n",
       "      <th>Online</th>\n",
       "      <td>3</td>\n",
       "    </tr>\n",
       "    <tr>\n",
       "      <th rowspan=\"2\" valign=\"top\">F</th>\n",
       "      <th>Classroom</th>\n",
       "      <td>6</td>\n",
       "    </tr>\n",
       "    <tr>\n",
       "      <th>Online</th>\n",
       "      <td>1</td>\n",
       "    </tr>\n",
       "  </tbody>\n",
       "</table>\n",
       "</div>"
      ],
      "text/plain": [
       "                 rollnumber\n",
       "grade mode                 \n",
       "A     Classroom           6\n",
       "B     Classroom           3\n",
       "      Online              2\n",
       "C     Classroom           5\n",
       "      Online              4\n",
       "D     Classroom           5\n",
       "      Online              3\n",
       "F     Classroom           6\n",
       "      Online              1"
      ]
     },
     "execution_count": 81,
     "metadata": {},
     "output_type": "execute_result"
    }
   ],
   "source": [
    "s4[['rollnumber','grade','mode']].groupby(['grade','mode']).count()\n",
    "#calculated frequencies according to different classes"
   ]
  },
  {
   "cell_type": "raw",
   "id": "2410174b",
   "metadata": {},
   "source": [
    "here we will be choosing chi square test for inpendence for checking if grade are dependent on mode of education\n",
    "right tail chi_square test\n",
    "H0: grades are independent of mode of eduaction\n",
    "H1: grades are not independent of mode of education"
   ]
  },
  {
   "cell_type": "code",
   "execution_count": 83,
   "id": "20421e7b",
   "metadata": {},
   "outputs": [],
   "source": [
    "classroom_obs=np.array([6,3,5,5,6])\n",
    "online_obs=np.array([0,2,4,3,1])"
   ]
  },
  {
   "cell_type": "code",
   "execution_count": 85,
   "id": "f785b643",
   "metadata": {},
   "outputs": [],
   "source": [
    "classroom_exp=classroom_obs*np.sum(classroom_obs)/35\n",
    "online_exp=online_obs*np.sum(online_obs)/35"
   ]
  },
  {
   "cell_type": "code",
   "execution_count": 86,
   "id": "af25d93e",
   "metadata": {},
   "outputs": [],
   "source": [
    "exp_val=np.append(classroom_exp,online_exp)\n",
    "obs_val=np.append(classroom_obs,online_obs)"
   ]
  },
  {
   "cell_type": "code",
   "execution_count": 87,
   "id": "5f6284a1",
   "metadata": {},
   "outputs": [
    {
     "name": "stderr",
     "output_type": "stream",
     "text": [
      "C:\\Users\\SHIMAN~1\\AppData\\Local\\Temp/ipykernel_256/198134222.py:3: RuntimeWarning: invalid value encountered in double_scalars\n",
      "  a2=((obs_val[i]-exp_val[i])**2/exp_val[i])\n"
     ]
    }
   ],
   "source": [
    "sum2=0\n",
    "for i in range(len(obs_val)):\n",
    "    a2=((obs_val[i]-exp_val[i])**2/exp_val[i])\n",
    "    sum2+=a2\n",
    "chi2_stat2=sum2"
   ]
  },
  {
   "cell_type": "code",
   "execution_count": 88,
   "id": "d0f14477",
   "metadata": {},
   "outputs": [
    {
     "data": {
      "text/plain": [
       "nan"
      ]
     },
     "execution_count": 88,
     "metadata": {},
     "output_type": "execute_result"
    }
   ],
   "source": [
    "chi2_stat2 #as we have one zero value so calculating this stat was not possible we can remove grade a do again same test"
   ]
  },
  {
   "cell_type": "code",
   "execution_count": 89,
   "id": "f0744ecc",
   "metadata": {},
   "outputs": [],
   "source": [
    "classroom_obs=np.array([3,5,5,6])\n",
    "online_obs=np.array([2,4,3,1])\n",
    "classroom_exp=classroom_obs*np.sum(classroom_obs)/29\n",
    "online_exp=online_obs*np.sum(online_obs)/29\n",
    "exp_val=np.append(classroom_exp,online_exp)\n",
    "obs_val=np.append(classroom_obs,online_obs)\n",
    "sum3=0\n",
    "for i in range(len(obs_val)):\n",
    "    a3=((obs_val[i]-exp_val[i])**2/exp_val[i])\n",
    "    sum3+=a3\n",
    "chi2_stat3=sum3 #after removing the first values for grade A as it is zero we calculated chi_sq stat"
   ]
  },
  {
   "cell_type": "code",
   "execution_count": 90,
   "id": "e451c116",
   "metadata": {},
   "outputs": [
    {
     "data": {
      "text/plain": [
       "15.89655172413793"
      ]
     },
     "execution_count": 90,
     "metadata": {},
     "output_type": "execute_result"
    }
   ],
   "source": [
    "chi2_stat3"
   ]
  },
  {
   "cell_type": "code",
   "execution_count": 91,
   "id": "2f33d1b0",
   "metadata": {},
   "outputs": [
    {
     "data": {
      "text/plain": [
       "7.814727903251178"
      ]
     },
     "execution_count": 91,
     "metadata": {},
     "output_type": "execute_result"
    }
   ],
   "source": [
    "stats.chi2.isf(0.05,df=3)"
   ]
  },
  {
   "cell_type": "raw",
   "id": "1e6cebaa",
   "metadata": {},
   "source": [
    "As our chi_sq_stat > chi_sq_critical we reject our null hypothesis \n",
    "therfore we conclude that mode of education has an impact on grades of students"
   ]
  },
  {
   "cell_type": "markdown",
   "id": "1793308f",
   "metadata": {},
   "source": [
    "[Q5] The university conducted a course in three centeres and assigned the same question paper. The VC  wants to compare performance of the three batches. Refer to sheet q5 to answer this query."
   ]
  },
  {
   "cell_type": "raw",
   "id": "0275eaf9",
   "metadata": {},
   "source": [
    "Here we have 3 batches and we want to compare thier means \n",
    "we will be using annova to compare their means\n",
    "h0: average marks of all these are equal\n",
    "h1: average marks of all abtches are not equal(any one can also be different from other)\n",
    "using f test which is right tail test"
   ]
  },
  {
   "cell_type": "code",
   "execution_count": 106,
   "id": "6f64ef5a",
   "metadata": {},
   "outputs": [
    {
     "data": {
      "text/html": [
       "<div>\n",
       "<style scoped>\n",
       "    .dataframe tbody tr th:only-of-type {\n",
       "        vertical-align: middle;\n",
       "    }\n",
       "\n",
       "    .dataframe tbody tr th {\n",
       "        vertical-align: top;\n",
       "    }\n",
       "\n",
       "    .dataframe thead th {\n",
       "        text-align: right;\n",
       "    }\n",
       "</style>\n",
       "<table border=\"1\" class=\"dataframe\">\n",
       "  <thead>\n",
       "    <tr style=\"text-align: right;\">\n",
       "      <th></th>\n",
       "      <th>batch</th>\n",
       "      <th>rollnum</th>\n",
       "      <th>marks</th>\n",
       "    </tr>\n",
       "  </thead>\n",
       "  <tbody>\n",
       "    <tr>\n",
       "      <th>0</th>\n",
       "      <td>1.0</td>\n",
       "      <td>1.0</td>\n",
       "      <td>84.0</td>\n",
       "    </tr>\n",
       "    <tr>\n",
       "      <th>1</th>\n",
       "      <td>1.0</td>\n",
       "      <td>2.0</td>\n",
       "      <td>69.0</td>\n",
       "    </tr>\n",
       "    <tr>\n",
       "      <th>2</th>\n",
       "      <td>1.0</td>\n",
       "      <td>3.0</td>\n",
       "      <td>74.0</td>\n",
       "    </tr>\n",
       "    <tr>\n",
       "      <th>3</th>\n",
       "      <td>1.0</td>\n",
       "      <td>4.0</td>\n",
       "      <td>89.0</td>\n",
       "    </tr>\n",
       "    <tr>\n",
       "      <th>4</th>\n",
       "      <td>1.0</td>\n",
       "      <td>5.0</td>\n",
       "      <td>92.0</td>\n",
       "    </tr>\n",
       "    <tr>\n",
       "      <th>...</th>\n",
       "      <td>...</td>\n",
       "      <td>...</td>\n",
       "      <td>...</td>\n",
       "    </tr>\n",
       "    <tr>\n",
       "      <th>88</th>\n",
       "      <td>3.0</td>\n",
       "      <td>26.0</td>\n",
       "      <td>84.0</td>\n",
       "    </tr>\n",
       "    <tr>\n",
       "      <th>89</th>\n",
       "      <td>3.0</td>\n",
       "      <td>27.0</td>\n",
       "      <td>76.0</td>\n",
       "    </tr>\n",
       "    <tr>\n",
       "      <th>90</th>\n",
       "      <td>3.0</td>\n",
       "      <td>28.0</td>\n",
       "      <td>55.0</td>\n",
       "    </tr>\n",
       "    <tr>\n",
       "      <th>91</th>\n",
       "      <td>3.0</td>\n",
       "      <td>29.0</td>\n",
       "      <td>61.0</td>\n",
       "    </tr>\n",
       "    <tr>\n",
       "      <th>92</th>\n",
       "      <td>3.0</td>\n",
       "      <td>30.0</td>\n",
       "      <td>67.0</td>\n",
       "    </tr>\n",
       "  </tbody>\n",
       "</table>\n",
       "<p>93 rows × 3 columns</p>\n",
       "</div>"
      ],
      "text/plain": [
       "    batch  rollnum  marks\n",
       "0     1.0      1.0   84.0\n",
       "1     1.0      2.0   69.0\n",
       "2     1.0      3.0   74.0\n",
       "3     1.0      4.0   89.0\n",
       "4     1.0      5.0   92.0\n",
       "..    ...      ...    ...\n",
       "88    3.0     26.0   84.0\n",
       "89    3.0     27.0   76.0\n",
       "90    3.0     28.0   55.0\n",
       "91    3.0     29.0   61.0\n",
       "92    3.0     30.0   67.0\n",
       "\n",
       "[93 rows x 3 columns]"
      ]
     },
     "execution_count": 106,
     "metadata": {},
     "output_type": "execute_result"
    }
   ],
   "source": [
    "s5 = pd.read_excel('midterm_data.xlsx', sheet_name='q5')\n",
    "s5"
   ]
  },
  {
   "cell_type": "code",
   "execution_count": 101,
   "id": "bc25f6e7",
   "metadata": {},
   "outputs": [],
   "source": [
    "batch1_marks=np.array(s5.marks[s5.batch==1])\n",
    "batch2_marks=np.array(s5.marks[s5.batch==2])\n",
    "batch3_marks=np.array(s5.marks[s5.batch==3])"
   ]
  },
  {
   "cell_type": "code",
   "execution_count": 102,
   "id": "80138373",
   "metadata": {},
   "outputs": [
    {
     "data": {
      "text/plain": [
       "ShapiroResult(statistic=0.9750015139579773, pvalue=0.6827733516693115)"
      ]
     },
     "execution_count": 102,
     "metadata": {},
     "output_type": "execute_result"
    }
   ],
   "source": [
    "# normality tests\n",
    "stats.shapiro(batch1_marks)\n",
    "stats.shapiro(batch2_marks)\n",
    "stats.shapiro(batch3_marks)"
   ]
  },
  {
   "cell_type": "code",
   "execution_count": 109,
   "id": "59b9f868",
   "metadata": {},
   "outputs": [],
   "source": [
    "f_test, p_val = stats.f_oneway(batch1_marks, batch2_marks, batch3_marks)"
   ]
  },
  {
   "cell_type": "code",
   "execution_count": 110,
   "id": "15747ed5",
   "metadata": {},
   "outputs": [
    {
     "data": {
      "text/plain": [
       "0.6534623826271031"
      ]
     },
     "execution_count": 110,
     "metadata": {},
     "output_type": "execute_result"
    }
   ],
   "source": [
    "f_test"
   ]
  },
  {
   "cell_type": "code",
   "execution_count": 111,
   "id": "a65aefbd",
   "metadata": {},
   "outputs": [
    {
     "data": {
      "text/plain": [
       "0.5226918265862517"
      ]
     },
     "execution_count": 111,
     "metadata": {},
     "output_type": "execute_result"
    }
   ],
   "source": [
    "p_val"
   ]
  },
  {
   "cell_type": "raw",
   "id": "8d8aab17",
   "metadata": {},
   "source": [
    "as p_value>alpha we cannot reject our h0 that is average marks of all these are equal\n",
    "therefore average marks of all the batches are similar."
   ]
  }
 ],
 "metadata": {
  "kernelspec": {
   "display_name": "Python 3 (ipykernel)",
   "language": "python",
   "name": "python3"
  },
  "language_info": {
   "codemirror_mode": {
    "name": "ipython",
    "version": 3
   },
   "file_extension": ".py",
   "mimetype": "text/x-python",
   "name": "python",
   "nbconvert_exporter": "python",
   "pygments_lexer": "ipython3",
   "version": "3.9.7"
  }
 },
 "nbformat": 4,
 "nbformat_minor": 5
}
