{
 "cells": [
  {
   "cell_type": "markdown",
   "id": "aefd5777",
   "metadata": {},
   "source": [
    "**Instructions:**\n",
    "\n",
    "duration: 2 hours\n",
    "\n",
    "marks: 30\n",
    "\n",
    "There are five questions below. Each require a portion answered using python in this notebook and a written answer using pen paper.\n",
    "\n",
    "Use comments to make your code readable and interpret the results formally. This is NOT a python or ML exam.\n",
    "\n",
    "Written answers: Briefly answer the following, if applicable, for each question\n",
    "- Justify the selected test\n",
    "- State any assumptions for the test\n",
    "- State and justify the choice of the rejection zone\n",
    "- State the decision, interpret"
   ]
  },
  {
   "cell_type": "code",
   "execution_count": null,
   "id": "5fcc639c",
   "metadata": {},
   "outputs": [],
   "source": [
    "# code snippets that may be useful\n",
    "\n",
    "# !pip install xlrd\n",
    "# df = pd.read_excel('sample.xlsx', sheet_name='sheet2')\n",
    "\n",
    "# stats.norm.cdf(zscore)\n",
    "# stats.t.cdf(tscore, df=df)\n",
    "\n",
    "# stats.norm.ppf(probability)\n",
    "# stats.t.ppf(probability, df=df)\n",
    "\n",
    "# chi_square_stat, p_value = stats.chisquare(observed_values, f_exp=expected_values)\n",
    "\n",
    "# chi_sq_Stat, p_value, deg_freedom, exp_freq = stats.chi2_contingency(quality_array, correction=False)\n",
    "\n",
    "\n",
    "# f_test, p_val = stats.f_oneway(sectionA, sectionB, sectionC)\n",
    "\n",
    "#mod = ols('marks ~ section', data = marks_df).fit()\n",
    "#aov_table = sm.stats.anova_lm(mod, typ=2)\n",
    "#print(aov_table)"
   ]
  },
  {
   "cell_type": "code",
   "execution_count": 1,
   "id": "6a0b9c4a",
   "metadata": {},
   "outputs": [],
   "source": [
    "# import libraries\n",
    "import numpy as np\n",
    "import pandas as pd\n",
    "from scipy import stats\n",
    "\n",
    "# ANOVA\n",
    "import statsmodels.api         as     sm\n",
    "from   statsmodels.formula.api import ols"
   ]
  },
  {
   "cell_type": "code",
   "execution_count": 2,
   "id": "bc9345b1",
   "metadata": {},
   "outputs": [],
   "source": [
    "import os\n",
    "os.chdir(r'C:\\Users\\tejas\\Downloads')"
   ]
  },
  {
   "cell_type": "markdown",
   "id": "6603fa31",
   "metadata": {},
   "source": [
    "[Q1] A cable internet service provider ran two campaigns. In one they offered one month free if the subscriber paid for 6 months. In another they offered two months free if the subscriber paid for 12 months. Data relating to both campaigns are in the data workbook sheets q1 and q11.\n",
    "Using formal methods, test if they were both equally effective in winning customers."
   ]
  },
  {
   "cell_type": "code",
   "execution_count": 5,
   "id": "e3bac0ee",
   "metadata": {},
   "outputs": [
    {
     "data": {
      "text/plain": [
       "agent_id    0\n",
       "region      0\n",
       "pitch       0\n",
       "result      0\n",
       "dtype: int64"
      ]
     },
     "execution_count": 5,
     "metadata": {},
     "output_type": "execute_result"
    }
   ],
   "source": [
    "q1 = pd.read_excel('midterm_data.xlsx', sheet_name='q1')\n",
    "q1.isnull().sum()"
   ]
  },
  {
   "cell_type": "code",
   "execution_count": 7,
   "id": "b6f58052",
   "metadata": {},
   "outputs": [
    {
     "data": {
      "text/plain": [
       "agent_id    0\n",
       "region      0\n",
       "pitch       0\n",
       "result      0\n",
       "dtype: int64"
      ]
     },
     "execution_count": 7,
     "metadata": {},
     "output_type": "execute_result"
    }
   ],
   "source": [
    "q11 = pd.read_excel('midterm_data.xlsx', sheet_name='q11')\n",
    "q11.isnull().sum()"
   ]
  },
  {
   "cell_type": "code",
   "execution_count": 6,
   "id": "12779bdd",
   "metadata": {},
   "outputs": [
    {
     "data": {
      "text/html": [
       "<div>\n",
       "<style scoped>\n",
       "    .dataframe tbody tr th:only-of-type {\n",
       "        vertical-align: middle;\n",
       "    }\n",
       "\n",
       "    .dataframe tbody tr th {\n",
       "        vertical-align: top;\n",
       "    }\n",
       "\n",
       "    .dataframe thead th {\n",
       "        text-align: right;\n",
       "    }\n",
       "</style>\n",
       "<table border=\"1\" class=\"dataframe\">\n",
       "  <thead>\n",
       "    <tr style=\"text-align: right;\">\n",
       "      <th></th>\n",
       "      <th>agent_id</th>\n",
       "      <th>region</th>\n",
       "      <th>pitch</th>\n",
       "      <th>result</th>\n",
       "    </tr>\n",
       "  </thead>\n",
       "  <tbody>\n",
       "    <tr>\n",
       "      <th>0</th>\n",
       "      <td>1429</td>\n",
       "      <td>N</td>\n",
       "      <td>pay for 6 months, get 1 month free</td>\n",
       "      <td>N</td>\n",
       "    </tr>\n",
       "    <tr>\n",
       "      <th>1</th>\n",
       "      <td>1047</td>\n",
       "      <td>N</td>\n",
       "      <td>pay for 6 months, get 1 month free</td>\n",
       "      <td>N</td>\n",
       "    </tr>\n",
       "    <tr>\n",
       "      <th>2</th>\n",
       "      <td>1356</td>\n",
       "      <td>W</td>\n",
       "      <td>pay for 6 months, get 1 month free</td>\n",
       "      <td>AcceptedOffer</td>\n",
       "    </tr>\n",
       "    <tr>\n",
       "      <th>3</th>\n",
       "      <td>1230</td>\n",
       "      <td>W</td>\n",
       "      <td>pay for 6 months, get 1 month free</td>\n",
       "      <td>N</td>\n",
       "    </tr>\n",
       "    <tr>\n",
       "      <th>4</th>\n",
       "      <td>1818</td>\n",
       "      <td>E</td>\n",
       "      <td>pay for 6 months, get 1 month free</td>\n",
       "      <td>N</td>\n",
       "    </tr>\n",
       "  </tbody>\n",
       "</table>\n",
       "</div>"
      ],
      "text/plain": [
       "   agent_id region                               pitch         result\n",
       "0      1429      N  pay for 6 months, get 1 month free              N\n",
       "1      1047      N  pay for 6 months, get 1 month free              N\n",
       "2      1356      W  pay for 6 months, get 1 month free  AcceptedOffer\n",
       "3      1230      W  pay for 6 months, get 1 month free              N\n",
       "4      1818      E  pay for 6 months, get 1 month free              N"
      ]
     },
     "execution_count": 6,
     "metadata": {},
     "output_type": "execute_result"
    }
   ],
   "source": [
    "q1.head()"
   ]
  },
  {
   "cell_type": "code",
   "execution_count": 14,
   "id": "0662f75d",
   "metadata": {},
   "outputs": [
    {
     "data": {
      "text/plain": [
       "(61, 4)"
      ]
     },
     "execution_count": 14,
     "metadata": {},
     "output_type": "execute_result"
    }
   ],
   "source": [
    "q1.shape"
   ]
  },
  {
   "cell_type": "code",
   "execution_count": 8,
   "id": "f252d453",
   "metadata": {},
   "outputs": [
    {
     "data": {
      "text/html": [
       "<div>\n",
       "<style scoped>\n",
       "    .dataframe tbody tr th:only-of-type {\n",
       "        vertical-align: middle;\n",
       "    }\n",
       "\n",
       "    .dataframe tbody tr th {\n",
       "        vertical-align: top;\n",
       "    }\n",
       "\n",
       "    .dataframe thead th {\n",
       "        text-align: right;\n",
       "    }\n",
       "</style>\n",
       "<table border=\"1\" class=\"dataframe\">\n",
       "  <thead>\n",
       "    <tr style=\"text-align: right;\">\n",
       "      <th></th>\n",
       "      <th>agent_id</th>\n",
       "      <th>region</th>\n",
       "      <th>pitch</th>\n",
       "      <th>result</th>\n",
       "    </tr>\n",
       "  </thead>\n",
       "  <tbody>\n",
       "    <tr>\n",
       "      <th>0</th>\n",
       "      <td>1013</td>\n",
       "      <td>S</td>\n",
       "      <td>pay for 12 months, get 2 months free</td>\n",
       "      <td>N</td>\n",
       "    </tr>\n",
       "    <tr>\n",
       "      <th>1</th>\n",
       "      <td>1042</td>\n",
       "      <td>E</td>\n",
       "      <td>pay for 12 months, get 2 months free</td>\n",
       "      <td>N</td>\n",
       "    </tr>\n",
       "    <tr>\n",
       "      <th>2</th>\n",
       "      <td>1044</td>\n",
       "      <td>E</td>\n",
       "      <td>pay for 12 months, get 2 months free</td>\n",
       "      <td>N</td>\n",
       "    </tr>\n",
       "    <tr>\n",
       "      <th>3</th>\n",
       "      <td>1052</td>\n",
       "      <td>N</td>\n",
       "      <td>pay for 12 months, get 2 months free</td>\n",
       "      <td>N</td>\n",
       "    </tr>\n",
       "    <tr>\n",
       "      <th>4</th>\n",
       "      <td>1074</td>\n",
       "      <td>N</td>\n",
       "      <td>pay for 12 months, get 2 months free</td>\n",
       "      <td>N</td>\n",
       "    </tr>\n",
       "  </tbody>\n",
       "</table>\n",
       "</div>"
      ],
      "text/plain": [
       "   agent_id region                                 pitch result\n",
       "0      1013      S  pay for 12 months, get 2 months free      N\n",
       "1      1042      E  pay for 12 months, get 2 months free      N\n",
       "2      1044      E  pay for 12 months, get 2 months free      N\n",
       "3      1052      N  pay for 12 months, get 2 months free      N\n",
       "4      1074      N  pay for 12 months, get 2 months free      N"
      ]
     },
     "execution_count": 8,
     "metadata": {},
     "output_type": "execute_result"
    }
   ],
   "source": [
    "q11.head()"
   ]
  },
  {
   "cell_type": "code",
   "execution_count": 15,
   "id": "f8ce01a2",
   "metadata": {},
   "outputs": [
    {
     "data": {
      "text/plain": [
       "(56, 4)"
      ]
     },
     "execution_count": 15,
     "metadata": {},
     "output_type": "execute_result"
    }
   ],
   "source": [
    "q11.shape"
   ]
  },
  {
   "cell_type": "code",
   "execution_count": null,
   "id": "ee98cec6",
   "metadata": {},
   "outputs": [],
   "source": [
    "#subscribers accepting offer in campaign 1"
   ]
  },
  {
   "cell_type": "code",
   "execution_count": 11,
   "id": "fa6a272b",
   "metadata": {},
   "outputs": [],
   "source": [
    "count1_acc= 0\n",
    "count1_nacc= 0\n",
    "\n",
    "for i in q1.result:\n",
    "    if i== 'AcceptedOffer':\n",
    "        count1_acc= count1_acc+1\n",
    "        \n",
    "    elif i== 'N':\n",
    "        count1_nacc= count1_nacc+1"
   ]
  },
  {
   "cell_type": "code",
   "execution_count": 12,
   "id": "dde1a796",
   "metadata": {},
   "outputs": [
    {
     "data": {
      "text/plain": [
       "(19, 42)"
      ]
     },
     "execution_count": 12,
     "metadata": {},
     "output_type": "execute_result"
    }
   ],
   "source": [
    "count1_acc, count1_nacc"
   ]
  },
  {
   "cell_type": "code",
   "execution_count": null,
   "id": "d80609b1",
   "metadata": {},
   "outputs": [],
   "source": [
    "#subscribers accepting offer in campaign 2"
   ]
  },
  {
   "cell_type": "code",
   "execution_count": 16,
   "id": "810a9dcd",
   "metadata": {},
   "outputs": [],
   "source": [
    "count2_acc= 0\n",
    "count2_nacc= 0\n",
    "\n",
    "for i in q11.result:\n",
    "    if i== 'AcceptedOffer':\n",
    "        count2_acc= count2_acc+1\n",
    "        \n",
    "    elif i== 'N':\n",
    "        count2_nacc= count2_nacc+1"
   ]
  },
  {
   "cell_type": "code",
   "execution_count": 17,
   "id": "5eda81ee",
   "metadata": {},
   "outputs": [
    {
     "data": {
      "text/plain": [
       "(12, 44)"
      ]
     },
     "execution_count": 17,
     "metadata": {},
     "output_type": "execute_result"
    }
   ],
   "source": [
    "count2_acc, count2_nacc"
   ]
  },
  {
   "cell_type": "code",
   "execution_count": 107,
   "id": "6cc0ce24",
   "metadata": {},
   "outputs": [
    {
     "data": {
      "text/plain": [
       "array([[19, 12],\n",
       "       [42, 44]])"
      ]
     },
     "execution_count": 107,
     "metadata": {},
     "output_type": "execute_result"
    }
   ],
   "source": [
    "# Chi Square Independence test- Contingency Test. \n",
    "#Hypothesis Formulation : Ho : Response to Campaigns 1 and 2 is equal in obs and expected \n",
    "        # Ha :Response to Campaigns 1 and 2 not equal in obs and expected \n",
    "    \n",
    "import numpy       as np\n",
    "import scipy.stats as stats\n",
    "\n",
    "chi_array = np.array([[19,12],[42,44]])\n",
    "\n",
    "chi_array"
   ]
  },
  {
   "cell_type": "code",
   "execution_count": 20,
   "id": "f24a4fdd",
   "metadata": {},
   "outputs": [],
   "source": [
    "acc= np.sum(chi_array[0])\n",
    "not_acc= np.sum(chi_array[1])"
   ]
  },
  {
   "cell_type": "code",
   "execution_count": 23,
   "id": "d3677d73",
   "metadata": {},
   "outputs": [],
   "source": [
    "camp1= chi_array[0][0]+ chi_array[1][0]\n",
    "camp2= chi_array[0][1]+ chi_array[1][1]"
   ]
  },
  {
   "cell_type": "code",
   "execution_count": 24,
   "id": "3f7c0422",
   "metadata": {},
   "outputs": [],
   "source": [
    "c1_acc= camp1*(acc/(acc+not_acc))\n",
    "c1_not_acc= camp1*(not_acc/(acc+not_acc))\n",
    "\n",
    "c2_acc= camp2*(acc/(acc+not_acc))\n",
    "c2_not_acc= camp2*(not_acc/(acc+not_acc))"
   ]
  },
  {
   "cell_type": "code",
   "execution_count": 26,
   "id": "38d6ba4c",
   "metadata": {},
   "outputs": [
    {
     "data": {
      "text/plain": [
       "array([[16.16239316, 14.83760684],\n",
       "       [44.83760684, 41.16239316]])"
      ]
     },
     "execution_count": 26,
     "metadata": {},
     "output_type": "execute_result"
    }
   ],
   "source": [
    "chi_exp_array = np.array([[c1_acc,c2_acc],[c1_not_acc,c2_not_acc]])\n",
    "chi_exp_array "
   ]
  },
  {
   "cell_type": "code",
   "execution_count": 27,
   "id": "e56e9800",
   "metadata": {},
   "outputs": [
    {
     "data": {
      "text/plain": [
       "3.8414588206941285"
      ]
     },
     "execution_count": 27,
     "metadata": {},
     "output_type": "execute_result"
    }
   ],
   "source": [
    "chi_c = stats.chi2.isf(0.05,(2-1)*(2-1)) #Chi Square Right tail test.\n",
    "chi_c\n",
    "\n"
   ]
  },
  {
   "cell_type": "code",
   "execution_count": 28,
   "id": "19790e5e",
   "metadata": {},
   "outputs": [
    {
     "data": {
      "text/plain": [
       "1.4160677171634835"
      ]
     },
     "execution_count": 28,
     "metadata": {},
     "output_type": "execute_result"
    }
   ],
   "source": [
    "chi_stats = (chi_array - chi_exp_array)**2/chi_exp_array\n",
    "chi_sq = np.sum(chi_stats)\n",
    "chi_sq"
   ]
  },
  {
   "cell_type": "code",
   "execution_count": 30,
   "id": "a9232158",
   "metadata": {},
   "outputs": [],
   "source": [
    "p_value= stats.chi2.sf(chi_sq,(2-1)*(2-1)) #area right of chi square "
   ]
  },
  {
   "cell_type": "code",
   "execution_count": 32,
   "id": "5be2bcf6",
   "metadata": {},
   "outputs": [
    {
     "data": {
      "text/plain": [
       "(1.4160677171634835, 3.8414588206941285, 0.23405172341301897, 0.05)"
      ]
     },
     "execution_count": 32,
     "metadata": {},
     "output_type": "execute_result"
    }
   ],
   "source": [
    "alpha= 0.05\n",
    "chi_sq, chi_c, p_value, alpha"
   ]
  },
  {
   "cell_type": "code",
   "execution_count": null,
   "id": "552d2b83",
   "metadata": {},
   "outputs": [],
   "source": []
  },
  {
   "cell_type": "code",
   "execution_count": null,
   "id": "5c71b88d",
   "metadata": {},
   "outputs": [],
   "source": [
    "#cross-check with inbuilt python function:"
   ]
  },
  {
   "cell_type": "code",
   "execution_count": 109,
   "id": "7633ea83",
   "metadata": {},
   "outputs": [
    {
     "name": "stdout",
     "output_type": "stream",
     "text": [
      "Chi-square statistic 1.41607 P value 0.234052 Degrees of freedom 1\n",
      "critical value is  3.8414588206941285\n"
     ]
    }
   ],
   "source": [
    "import pandas      as pd\n",
    "import numpy       as np\n",
    "import scipy.stats as stats\n",
    "\n",
    "chi_sq_Stat, p_value, deg_freedom, exp_freq = stats.chi2_contingency(chi_array, correction=False)\n",
    "stats.chi2_contingency(chi_array)\n",
    "\n",
    "print('Chi-square statistic %3.5f P value %1.6f Degrees of freedom %d' %(chi_sq_Stat, p_value,deg_freedom))\n",
    "df = (2-1)*(2-1)\n",
    "print(\"critical value is \", stats.chi2.isf(0.05, df))"
   ]
  },
  {
   "cell_type": "markdown",
   "id": "8fc19bae",
   "metadata": {},
   "source": [
    "### Decision\n",
    "\n",
    "Based on the method (from scratch) and python library: \n",
    "1. Chi Stat  is less than Chi critical for the given right tail test.\n",
    "2. P_value is greater then alpha.  \n",
    "As we can see, in right tail Chi test test sample falls in acceptance zone. So we cannot reject Null Hypothesis based on given sample data.\n",
    "3. Hence, both campaigns were both equally effective in winning customers\n"
   ]
  },
  {
   "cell_type": "code",
   "execution_count": null,
   "id": "16d7a60c",
   "metadata": {},
   "outputs": [],
   "source": []
  },
  {
   "cell_type": "code",
   "execution_count": null,
   "id": "e567bb0f",
   "metadata": {},
   "outputs": [],
   "source": []
  },
  {
   "cell_type": "markdown",
   "id": "8473ce44",
   "metadata": {},
   "source": [
    "[Q2] The agents of the cable internet company are required to make phone calls to customers and offer them deals and win subscriptions. A metric in this process is the number of calls made per day. Initially the agents were paid fixed salary without any incentives for winning new customers. The management recently changed this and offered incentives to the agents hoping they will make more calls per day. This information is available in sheet q2. The columns are Calls_Salary and Calls_Incentive for each agent.\n",
    "\n",
    "You are required to test if the change in payment to include incentives for winning customers has increased the number of calls made per day."
   ]
  },
  {
   "cell_type": "code",
   "execution_count": 34,
   "id": "c4d7f853",
   "metadata": {},
   "outputs": [],
   "source": [
    "#Let mu_1 be the average number of calls per day initially.\n",
    "#mu_2 be the average calls per day after incentives\n",
    "\n",
    "# H0 : mu_1 - mu_2 >= 0\n",
    "# H1 : mu_1 - mu_2 < 0   # incentives for winning customers has increased the average number of calls\n",
    "\n",
    "q2 = pd.read_excel('midterm_data.xlsx', sheet_name='q2')\n",
    "q2.isnull().sum()\n",
    "alpha = 0.05                      \n",
    "\n"
   ]
  },
  {
   "cell_type": "code",
   "execution_count": 36,
   "id": "88c52e3b",
   "metadata": {},
   "outputs": [
    {
     "data": {
      "text/plain": [
       "(59, 3)"
      ]
     },
     "execution_count": 36,
     "metadata": {},
     "output_type": "execute_result"
    }
   ],
   "source": [
    "q2.shape"
   ]
  },
  {
   "cell_type": "code",
   "execution_count": 37,
   "id": "b4cf4824",
   "metadata": {},
   "outputs": [
    {
     "data": {
      "text/plain": [
       "agent_id           0\n",
       "Calls_Salary       0\n",
       "Calls_Incentive    0\n",
       "dtype: int64"
      ]
     },
     "execution_count": 37,
     "metadata": {},
     "output_type": "execute_result"
    }
   ],
   "source": [
    "q2.isnull().sum()"
   ]
  },
  {
   "cell_type": "code",
   "execution_count": 38,
   "id": "fe156f31",
   "metadata": {},
   "outputs": [
    {
     "data": {
      "text/plain": [
       "array([-3, -3, -3,  3, -7, -1, -7, -4,  1, -3, -3, -5, -4, -4, -3, -4, -3,\n",
       "       -7, -5, -6, -7, -4,  0,  0, -4, -4, -2, -6, -6, -5,  1, -6,  2, -6,\n",
       "       -1, -3, -4, -2, -5, -2, -5, -7,  2, -5, -3, -7, -1, -6, -6, -4, -7,\n",
       "       -6, -3, -3,  0, -3, -6, -8,  2], dtype=int64)"
      ]
     },
     "execution_count": 38,
     "metadata": {},
     "output_type": "execute_result"
    }
   ],
   "source": [
    "x1 = np.array(q2[\"Calls_Salary\"])  #Calls before incentives\n",
    "x2 = np.array(q2[\"Calls_Incentive\"])   #Calls after incentives  \n",
    "D = x1 - x2\n",
    "D"
   ]
  },
  {
   "cell_type": "code",
   "execution_count": 44,
   "id": "9f99ed91",
   "metadata": {},
   "outputs": [],
   "source": [
    "n = len(D)"
   ]
  },
  {
   "cell_type": "code",
   "execution_count": 45,
   "id": "9288f3fb",
   "metadata": {},
   "outputs": [],
   "source": [
    "D_bar = np.mean(D)\n",
    "S_D = np.std(D,ddof=1)"
   ]
  },
  {
   "cell_type": "code",
   "execution_count": 49,
   "id": "dcdc8f89",
   "metadata": {},
   "outputs": [
    {
     "data": {
      "text/plain": [
       "-1.6715527621536728"
      ]
     },
     "execution_count": 49,
     "metadata": {},
     "output_type": "execute_result"
    }
   ],
   "source": [
    "t_crit = stats.t.ppf(0.05,df=n-1)  #left tailed test\n",
    "t_crit"
   ]
  },
  {
   "cell_type": "code",
   "execution_count": 50,
   "id": "107ef785",
   "metadata": {},
   "outputs": [
    {
     "data": {
      "text/plain": [
       "-10.252069705503347"
      ]
     },
     "execution_count": 50,
     "metadata": {},
     "output_type": "execute_result"
    }
   ],
   "source": [
    "t = (D_bar - 0)/(S_D/np.sqrt(n))\n",
    "t"
   ]
  },
  {
   "cell_type": "code",
   "execution_count": 52,
   "id": "609c6236",
   "metadata": {},
   "outputs": [
    {
     "data": {
      "text/plain": [
       "6.119313351322935e-15"
      ]
     },
     "execution_count": 52,
     "metadata": {},
     "output_type": "execute_result"
    }
   ],
   "source": [
    "pval = stats.t.cdf(t,df=n-1)\n",
    "pval"
   ]
  },
  {
   "cell_type": "markdown",
   "id": "11768efb",
   "metadata": {},
   "source": [
    "## Decision\n",
    "* As t < tc in left tail test, the samples lie in rejection zone. Hence we reject the null hypothesis.\n",
    "* as p_value < alpha in left tail test, the samples lie in rejection zone. Hence we reject the null hypothesis.\n",
    "* Hence the impact of incentives is statistically significant for winning customers and has increased the average number of calls"
   ]
  },
  {
   "cell_type": "code",
   "execution_count": null,
   "id": "ba628efb",
   "metadata": {},
   "outputs": [],
   "source": []
  },
  {
   "cell_type": "code",
   "execution_count": null,
   "id": "4c2fe82c",
   "metadata": {},
   "outputs": [],
   "source": []
  },
  {
   "cell_type": "markdown",
   "id": "ffb0ddae",
   "metadata": {},
   "source": [
    "[Q3] University requires grades to be distributed according to their norms:\n",
    "A (5%), B(30%), C(50%), D(10%), F(5%) \n",
    "For a recent exam, the grades were as given in sheet q3.\n",
    "\n",
    "Test if this follows the norms."
   ]
  },
  {
   "cell_type": "code",
   "execution_count": 77,
   "id": "28d9cbfb",
   "metadata": {},
   "outputs": [
    {
     "data": {
      "text/plain": [
       "rollnumber    0\n",
       "mode          0\n",
       "grade         0\n",
       "dtype: int64"
      ]
     },
     "execution_count": 77,
     "metadata": {},
     "output_type": "execute_result"
    }
   ],
   "source": [
    "q3 = pd.read_excel('midterm_data.xlsx', sheet_name='q3')\n",
    "q3.isnull().sum()"
   ]
  },
  {
   "cell_type": "code",
   "execution_count": 78,
   "id": "0439082a",
   "metadata": {},
   "outputs": [],
   "source": [
    "countA= 0\n",
    "countB= 0\n",
    "countC= 0\n",
    "countD= 0\n",
    "countF= 0\n",
    "\n",
    "for i in q3.grade:\n",
    "    if i== 'A':\n",
    "        countA= countA+1\n",
    "        \n",
    "    elif i== 'B':\n",
    "        countB= countB+1\n",
    "        \n",
    "    elif i== 'C':\n",
    "        countC= countC+1\n",
    "        \n",
    "    elif i== 'D':\n",
    "        countD= countD+1\n",
    "        \n",
    "    elif i== 'F':\n",
    "        countF= countF+1"
   ]
  },
  {
   "cell_type": "code",
   "execution_count": 79,
   "id": "16e99b79",
   "metadata": {},
   "outputs": [
    {
     "data": {
      "text/plain": [
       "6"
      ]
     },
     "execution_count": 79,
     "metadata": {},
     "output_type": "execute_result"
    }
   ],
   "source": [
    "countA"
   ]
  },
  {
   "cell_type": "markdown",
   "id": "9b549b66",
   "metadata": {},
   "source": [
    "## Chi square goodness of fit test\n",
    "\n",
    "\n",
    "H0: Observed grade distribution is similar to Expected grade distribution.\n",
    "\n",
    "H1: Observed grade distribution is not similar to Expected grade distribution."
   ]
  },
  {
   "cell_type": "code",
   "execution_count": null,
   "id": "ce014334",
   "metadata": {},
   "outputs": [],
   "source": []
  },
  {
   "cell_type": "code",
   "execution_count": 55,
   "id": "3bcc6696",
   "metadata": {},
   "outputs": [
    {
     "data": {
      "text/plain": [
       "35"
      ]
     },
     "execution_count": 55,
     "metadata": {},
     "output_type": "execute_result"
    }
   ],
   "source": [
    "obs = np.array([countA, countB, countC, countD, countF ])\n",
    "n= np.sum(obs)\n",
    "n"
   ]
  },
  {
   "cell_type": "code",
   "execution_count": 56,
   "id": "474a1663",
   "metadata": {},
   "outputs": [],
   "source": [
    "exp = np.array([n*0.05,n*0.30,n*0.50,n*0.10, n*0.05])"
   ]
  },
  {
   "cell_type": "code",
   "execution_count": 58,
   "id": "6cc18f57",
   "metadata": {},
   "outputs": [
    {
     "data": {
      "text/plain": [
       "9.487729036781158"
      ]
     },
     "execution_count": 58,
     "metadata": {},
     "output_type": "execute_result"
    }
   ],
   "source": [
    "chi_c = stats.chi2.isf(0.05,5-1)\n",
    "chi_c"
   ]
  },
  {
   "cell_type": "code",
   "execution_count": 62,
   "id": "82d59204",
   "metadata": {},
   "outputs": [
    {
     "data": {
      "text/plain": [
       "38.86666666666667"
      ]
     },
     "execution_count": 62,
     "metadata": {},
     "output_type": "execute_result"
    }
   ],
   "source": [
    "chi_stats = (obs - exp)**2/exp\n",
    "chi_sq = np.sum(chi_stats)\n",
    "chi_sq"
   ]
  },
  {
   "cell_type": "code",
   "execution_count": 63,
   "id": "2bf74bb0",
   "metadata": {},
   "outputs": [
    {
     "data": {
      "text/plain": [
       "7.422492853897377e-08"
      ]
     },
     "execution_count": 63,
     "metadata": {},
     "output_type": "execute_result"
    }
   ],
   "source": [
    "stats.chi2.sf(chi_sq,5-1)"
   ]
  },
  {
   "cell_type": "code",
   "execution_count": null,
   "id": "bfd06218",
   "metadata": {},
   "outputs": [],
   "source": []
  },
  {
   "cell_type": "code",
   "execution_count": 61,
   "id": "62a11324",
   "metadata": {},
   "outputs": [
    {
     "data": {
      "text/plain": [
       "(38.86666666666667, 9.487729036781158, 7.422492853897377e-08, 0.05)"
      ]
     },
     "execution_count": 61,
     "metadata": {},
     "output_type": "execute_result"
    }
   ],
   "source": [
    "#cross- check with inbuilt library\n",
    "chi2_c = stats.chi2.isf(0.05, len(obs)-1)\n",
    "chi2, p_value = stats.chisquare(obs,exp)\n",
    "chi2, chi2_c, p_value, alpha\n"
   ]
  },
  {
   "cell_type": "markdown",
   "id": "d45ca1eb",
   "metadata": {},
   "source": [
    "## Decision:\n",
    "\n",
    "Based on the Chi method (from scratch) and python library:   \n",
    "* As chi_sq > chi2_c in right tail test, the samples lie in rejection zone. Hence we reject the null hypothesis.\n",
    "* As p_value < alpha in right tail test, the samples lie in rejection zone. Hence we reject the null hypothesis.\n",
    "* This sample fails to meet the norms."
   ]
  },
  {
   "cell_type": "code",
   "execution_count": null,
   "id": "fe095cb1",
   "metadata": {},
   "outputs": [],
   "source": []
  },
  {
   "cell_type": "markdown",
   "id": "9c9f590e",
   "metadata": {},
   "source": [
    "[Q4] There are keen discussions about online vs classroom in various segments of the society. Using the data in sheet q3, test if performance of students is impacted by the mode of engagement."
   ]
  },
  {
   "cell_type": "code",
   "execution_count": 4,
   "id": "5dfd526e",
   "metadata": {},
   "outputs": [
    {
     "data": {
      "text/plain": [
       "0     D\n",
       "1     F\n",
       "2     C\n",
       "3     C\n",
       "4     A\n",
       "7     A\n",
       "8     A\n",
       "9     D\n",
       "11    C\n",
       "12    A\n",
       "13    F\n",
       "14    F\n",
       "18    B\n",
       "19    B\n",
       "22    F\n",
       "24    D\n",
       "25    F\n",
       "26    D\n",
       "27    C\n",
       "28    D\n",
       "29    A\n",
       "30    C\n",
       "31    F\n",
       "32    B\n",
       "34    A\n",
       "Name: grade, dtype: object"
      ]
     },
     "execution_count": 4,
     "metadata": {},
     "output_type": "execute_result"
    }
   ],
   "source": [
    "#for Classroom segment:\n",
    "\n",
    "\n",
    "q3 = pd.read_excel('midterm_data.xlsx', sheet_name='q3')\n",
    "q3.isnull().sum()\n",
    "\n",
    "q3.grade[q3.option == 'Classroom']\n",
    "\n",
    "\n"
   ]
  },
  {
   "cell_type": "code",
   "execution_count": 15,
   "id": "88abf631",
   "metadata": {},
   "outputs": [
    {
     "data": {
      "text/plain": [
       "0     D\n",
       "1     F\n",
       "2     C\n",
       "3     C\n",
       "4     A\n",
       "5     C\n",
       "6     F\n",
       "7     A\n",
       "8     A\n",
       "9     D\n",
       "10    D\n",
       "11    C\n",
       "12    A\n",
       "13    F\n",
       "14    F\n",
       "15    C\n",
       "16    C\n",
       "17    C\n",
       "18    B\n",
       "19    B\n",
       "20    D\n",
       "21    D\n",
       "22    F\n",
       "23    B\n",
       "24    D\n",
       "25    F\n",
       "26    D\n",
       "27    C\n",
       "28    D\n",
       "29    A\n",
       "30    C\n",
       "31    F\n",
       "32    B\n",
       "33    B\n",
       "34    A\n",
       "Name: grade, dtype: object"
      ]
     },
     "execution_count": 15,
     "metadata": {},
     "output_type": "execute_result"
    }
   ],
   "source": [
    "q3.grade"
   ]
  },
  {
   "cell_type": "code",
   "execution_count": 16,
   "id": "7b55a6a7",
   "metadata": {},
   "outputs": [
    {
     "data": {
      "text/plain": [
       "<bound method DataFrame.mode of     rollnumber       mode grade\n",
       "0            1  Classroom     D\n",
       "1            2  Classroom     F\n",
       "2            3  Classroom     C\n",
       "3            4  Classroom     C\n",
       "4            5  Classroom     A\n",
       "5            6     Online     C\n",
       "6            7     Online     F\n",
       "7            8  Classroom     A\n",
       "8            9  Classroom     A\n",
       "9           10  Classroom     D\n",
       "10          11     Online     D\n",
       "11          12  Classroom     C\n",
       "12          13  Classroom     A\n",
       "13          14  Classroom     F\n",
       "14          15  Classroom     F\n",
       "15          16     Online     C\n",
       "16          17     Online     C\n",
       "17          18     Online     C\n",
       "18          19  Classroom     B\n",
       "19          20  Classroom     B\n",
       "20          21     Online     D\n",
       "21          22     Online     D\n",
       "22          23  Classroom     F\n",
       "23          24     Online     B\n",
       "24          25  Classroom     D\n",
       "25          26  Classroom     F\n",
       "26          27  Classroom     D\n",
       "27          28  Classroom     C\n",
       "28          29  Classroom     D\n",
       "29          30  Classroom     A\n",
       "30          31  Classroom     C\n",
       "31          32  Classroom     F\n",
       "32          33  Classroom     B\n",
       "33          34     Online     B\n",
       "34          35  Classroom     A>"
      ]
     },
     "execution_count": 16,
     "metadata": {},
     "output_type": "execute_result"
    }
   ],
   "source": [
    "q3.mode"
   ]
  },
  {
   "cell_type": "code",
   "execution_count": 23,
   "id": "8aebe1e0",
   "metadata": {},
   "outputs": [
    {
     "data": {
      "text/plain": [
       "[]"
      ]
     },
     "execution_count": 23,
     "metadata": {},
     "output_type": "execute_result"
    }
   ],
   "source": [
    "#for online segment:\n",
    "\n",
    "grade_online=[]\n",
    "\n",
    "if q3.mode== \"Online\":\n",
    "    for i in q3.grade:\n",
    "        grade_online.append(i)\n",
    "        \n",
    "grade_online\n",
    "        "
   ]
  },
  {
   "cell_type": "code",
   "execution_count": 22,
   "id": "1c759d5a",
   "metadata": {},
   "outputs": [
    {
     "data": {
      "text/plain": [
       "0     D\n",
       "1     F\n",
       "2     C\n",
       "3     C\n",
       "4     A\n",
       "5     C\n",
       "6     F\n",
       "7     A\n",
       "8     A\n",
       "9     D\n",
       "10    D\n",
       "11    C\n",
       "12    A\n",
       "13    F\n",
       "14    F\n",
       "15    C\n",
       "16    C\n",
       "17    C\n",
       "18    B\n",
       "19    B\n",
       "20    D\n",
       "21    D\n",
       "22    F\n",
       "23    B\n",
       "24    D\n",
       "25    F\n",
       "26    D\n",
       "27    C\n",
       "28    D\n",
       "29    A\n",
       "30    C\n",
       "31    F\n",
       "32    B\n",
       "33    B\n",
       "34    A\n",
       "Name: grade, dtype: object"
      ]
     },
     "execution_count": 22,
     "metadata": {},
     "output_type": "execute_result"
    }
   ],
   "source": [
    "q3.grade"
   ]
  },
  {
   "cell_type": "code",
   "execution_count": 67,
   "id": "af1bc638",
   "metadata": {},
   "outputs": [
    {
     "data": {
      "text/plain": [
       "array([[0, 0, 0, 0, 0],\n",
       "       [0, 0, 0, 0, 0]])"
      ]
     },
     "execution_count": 67,
     "metadata": {},
     "output_type": "execute_result"
    }
   ],
   "source": [
    "chi_array = np.array([[countA_c, countB_c, countC_c, countD_c,countF_c ],[countA_o, countB_o, countC_o, countD_o,countF_o]])\n",
    "\n",
    "chi_array"
   ]
  },
  {
   "cell_type": "markdown",
   "id": "db5b134f",
   "metadata": {},
   "source": [
    "# There is error while importing the data."
   ]
  },
  {
   "cell_type": "code",
   "execution_count": null,
   "id": "cf3ca581",
   "metadata": {},
   "outputs": [],
   "source": []
  },
  {
   "cell_type": "code",
   "execution_count": null,
   "id": "58c17be8",
   "metadata": {},
   "outputs": [],
   "source": []
  },
  {
   "cell_type": "markdown",
   "id": "1793308f",
   "metadata": {},
   "source": [
    "[Q5] The university conducted a course in three centeres and assigned the same question paper. The VC  wants to compare performance of the three batches. Refer to sheet q5 to answer this query."
   ]
  },
  {
   "cell_type": "code",
   "execution_count": 11,
   "id": "6f64ef5a",
   "metadata": {},
   "outputs": [
    {
     "data": {
      "text/plain": [
       "batch      0\n",
       "rollnum    0\n",
       "marks      0\n",
       "dtype: int64"
      ]
     },
     "execution_count": 11,
     "metadata": {},
     "output_type": "execute_result"
    }
   ],
   "source": [
    "q5 = pd.read_excel('midterm_data.xlsx', sheet_name='q5')\n",
    "q5.isnull().sum()"
   ]
  },
  {
   "cell_type": "code",
   "execution_count": 12,
   "id": "c35a749e",
   "metadata": {},
   "outputs": [
    {
     "data": {
      "text/plain": [
       "13377.567137096774"
      ]
     },
     "execution_count": 12,
     "metadata": {},
     "output_type": "execute_result"
    }
   ],
   "source": [
    "# H0 : mu_batch_1 = mu_batch_2 = mu_batch_3\n",
    "# H1 : not all means are equal\n",
    "\n",
    "a = q5.marks[q5.batch == 1]\n",
    "b = q5.marks[q5.batch == 2]\n",
    "c = q5.marks[q5.batch == 3]\n",
    "\n",
    "al=np.concatenate((a,b,c),axis=None)\n",
    "\n",
    "a_ssw=np.sum((a-a.mean())**2)\n",
    "b_ssw=np.sum((b-b.mean())**2)\n",
    "c_ssw=np.sum((c-c.mean())**2)\n",
    "SSW=(a_ssw+b_ssw+c_ssw)\n",
    "SSW"
   ]
  },
  {
   "cell_type": "code",
   "execution_count": 13,
   "id": "e6047b39",
   "metadata": {},
   "outputs": [
    {
     "data": {
      "text/plain": [
       "0     84\n",
       "1     69\n",
       "2     74\n",
       "3     89\n",
       "4     92\n",
       "5     71\n",
       "6     89\n",
       "7     94\n",
       "8     66\n",
       "9     63\n",
       "10    63\n",
       "11    79\n",
       "12    64\n",
       "13    55\n",
       "14    75\n",
       "15    64\n",
       "16    57\n",
       "17    67\n",
       "18    68\n",
       "19    58\n",
       "20    60\n",
       "21    56\n",
       "22    54\n",
       "23    90\n",
       "24    61\n",
       "25    82\n",
       "26    80\n",
       "27    69\n",
       "28    81\n",
       "29    86\n",
       "30    59\n",
       "Name: marks, dtype: int64"
      ]
     },
     "execution_count": 13,
     "metadata": {},
     "output_type": "execute_result"
    }
   ],
   "source": [
    "q5.marks[q5.batch == 1]"
   ]
  },
  {
   "cell_type": "code",
   "execution_count": 103,
   "id": "6945eb02",
   "metadata": {},
   "outputs": [
    {
     "data": {
      "text/plain": [
       "(93,)"
      ]
     },
     "execution_count": 103,
     "metadata": {},
     "output_type": "execute_result"
    }
   ],
   "source": [
    "al.shape"
   ]
  },
  {
   "cell_type": "code",
   "execution_count": 102,
   "id": "444108e3",
   "metadata": {},
   "outputs": [
    {
     "data": {
      "text/plain": [
       "194.26081989247362"
      ]
     },
     "execution_count": 102,
     "metadata": {},
     "output_type": "execute_result"
    }
   ],
   "source": [
    "a_ssb=np.sum(len(a)*(a.mean()-al.mean())**2)\n",
    "\n",
    "\n",
    "\n",
    "b_ssb=np.sum(len(b)*(b.mean()-al.mean())**2)\n",
    "\n",
    "\n",
    "c_ssb=np.sum(len(c)*(c.mean()-al.mean())**2)\n",
    "\n",
    "\n",
    "SSB=a_ssb+b_ssb+c_ssb\n",
    "SSB"
   ]
  },
  {
   "cell_type": "code",
   "execution_count": 110,
   "id": "c0f04b70",
   "metadata": {},
   "outputs": [
    {
     "data": {
      "text/plain": [
       "(3.097698035251924, 0.6534623826271045, 0.5226918265862517)"
      ]
     },
     "execution_count": 110,
     "metadata": {},
     "output_type": "execute_result"
    }
   ],
   "source": [
    "#c= 3 (c is no of categories)\n",
    "# mean sq between\n",
    "MSB=SSB/(3-1)\n",
    "MSB\n",
    "\n",
    "#n is no. of observation\n",
    "#c= 3 (c is no of categories)\n",
    "# Mean sq within the groups\n",
    "MSW=SSW/(93-3)\n",
    "MSW\n",
    "\n",
    "\n",
    "f_stat=MSB/MSW\n",
    "f_stat\n",
    "\n",
    "from scipy import stats\n",
    "f_critic = stats.f.isf(0.05,dfn=3-1,dfd=93-3)\n",
    "f_critic,f_stat\n",
    "\n",
    "# P_value \n",
    "P_Value = stats.f.sf(f_stat,dfn=3-1,dfd=93-3)\n",
    "\n",
    "\n",
    "f_critic,f_stat,P_Value\n",
    "\n",
    "\n"
   ]
  },
  {
   "cell_type": "code",
   "execution_count": 105,
   "id": "36063efd",
   "metadata": {},
   "outputs": [
    {
     "name": "stdout",
     "output_type": "stream",
     "text": [
      "0.6534623826271031\n",
      "0.5226918265862517\n"
     ]
    }
   ],
   "source": [
    "# cross-check with inbuilt library of one way ANOVA\n",
    "f_test, p_val = stats.f_oneway(a, b, c)\n",
    "print(f_test)\n",
    "print(p_val)"
   ]
  },
  {
   "cell_type": "markdown",
   "id": "65a591f4",
   "metadata": {},
   "source": [
    "## Decision  \n",
    "\n",
    "Based on the ANOVA method (from scratch) and python library:\n",
    "\n",
    "-- Here the p_value >0.05 for factors hence we fail to reject null hypothesis. Hence, there is no impact of centre on the marks scored."
   ]
  },
  {
   "cell_type": "code",
   "execution_count": null,
   "id": "74c661ca",
   "metadata": {},
   "outputs": [],
   "source": []
  }
 ],
 "metadata": {
  "kernelspec": {
   "display_name": "Python 3 (ipykernel)",
   "language": "python",
   "name": "python3"
  },
  "language_info": {
   "codemirror_mode": {
    "name": "ipython",
    "version": 3
   },
   "file_extension": ".py",
   "mimetype": "text/x-python",
   "name": "python",
   "nbconvert_exporter": "python",
   "pygments_lexer": "ipython3",
   "version": "3.9.7"
  }
 },
 "nbformat": 4,
 "nbformat_minor": 5
}
