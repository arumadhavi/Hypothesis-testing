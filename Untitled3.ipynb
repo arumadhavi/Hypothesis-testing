{
 "cells": [
  {
   "cell_type": "code",
   "execution_count": 17,
   "id": "19c73ead",
   "metadata": {},
   "outputs": [],
   "source": [
    "import numpy as np\n",
    "from scipy import stats\n",
    "import random\n",
    "import seaborn as sns"
   ]
  },
  {
   "cell_type": "code",
   "execution_count": 2,
   "id": "9ac13988",
   "metadata": {},
   "outputs": [],
   "source": [
    "Pop1 = np.random.normal(loc=2,scale=1,size=12000)\n",
    "Pop2 = np.random.normal(loc=5,scale=2,size=15000)"
   ]
  },
  {
   "cell_type": "code",
   "execution_count": 15,
   "id": "99d2dab9",
   "metadata": {},
   "outputs": [],
   "source": [
    "n1=30\n",
    "n2 = 45\n",
    "xbar_diffs = []\n",
    "loops = 2000\n",
    "for i in np.arange(loops):\n",
    "    sample1 = random.sample(list(Pop1),k=n1)\n",
    "    sample2 = random.sample(list(Pop2),k=n2)\n",
    "    xbar_diff = np.mean(np.array(sample1)) - np.mean(np.array(sample2))\n",
    "    xbar_diffs.append(xbar_diff)"
   ]
  },
  {
   "cell_type": "code",
   "execution_count": 16,
   "id": "b257d158",
   "metadata": {},
   "outputs": [
    {
     "data": {
      "text/plain": [
       "2000"
      ]
     },
     "execution_count": 16,
     "metadata": {},
     "output_type": "execute_result"
    }
   ],
   "source": [
    "len(xbar_diffs)"
   ]
  },
  {
   "cell_type": "code",
   "execution_count": 18,
   "id": "cc20bf5f",
   "metadata": {},
   "outputs": [
    {
     "name": "stderr",
     "output_type": "stream",
     "text": [
      "C:\\Anaconda3\\lib\\site-packages\\seaborn\\distributions.py:2619: FutureWarning: `distplot` is a deprecated function and will be removed in a future version. Please adapt your code to use either `displot` (a figure-level function with similar flexibility) or `histplot` (an axes-level function for histograms).\n",
      "  warnings.warn(msg, FutureWarning)\n"
     ]
    },
    {
     "data": {
      "text/plain": [
       "<AxesSubplot:ylabel='Density'>"
      ]
     },
     "execution_count": 18,
     "metadata": {},
     "output_type": "execute_result"
    },
    {
     "data": {
      "image/png": "[encoded data removed]",
      "text/plain": [
       "<Figure size 432x288 with 1 Axes>"
      ]
     },
     "metadata": {
      "needs_background": "light"
     },
     "output_type": "display_data"
    }
   ],
   "source": [
    "sns.distplot(xbar_diffs)"
   ]
  },
  {
   "cell_type": "code",
   "execution_count": 19,
   "id": "ca952687",
   "metadata": {},
   "outputs": [
    {
     "data": {
      "text/plain": [
       "-3.012402714303389"
      ]
     },
     "execution_count": 19,
     "metadata": {},
     "output_type": "execute_result"
    }
   ],
   "source": [
    "np.mean(xbar_diffs)"
   ]
  },
  {
   "cell_type": "code",
   "execution_count": 20,
   "id": "02b383dd",
   "metadata": {},
   "outputs": [
    {
     "data": {
      "text/plain": [
       "0.1308653533757099"
      ]
     },
     "execution_count": 20,
     "metadata": {},
     "output_type": "execute_result"
    }
   ],
   "source": [
    "np.var(xbar_diffs)"
   ]
  },
  {
   "cell_type": "code",
   "execution_count": 21,
   "id": "b83d5f5b",
   "metadata": {},
   "outputs": [
    {
     "data": {
      "text/plain": [
       "0.12222222222222223"
      ]
     },
     "execution_count": 21,
     "metadata": {},
     "output_type": "execute_result"
    }
   ],
   "source": [
    "(1**2)/n1 + (2**2)/n2"
   ]
  },
  {
   "cell_type": "code",
   "execution_count": 27,
   "id": "e03600d6",
   "metadata": {},
   "outputs": [
    {
     "data": {
      "text/plain": [
       "array([ 0,  4,  0,  3, -1,  9,  2,  5])"
      ]
     },
     "execution_count": 27,
     "metadata": {},
     "output_type": "execute_result"
    }
   ],
   "source": [
    "x1 = np.array([1,5,0,8,1,9,4,7])\n",
    "x2 = np.array([1,1,0,5,2,0,2,2])\n",
    "D = x1 - x2\n",
    "D"
   ]
  },
  {
   "cell_type": "code",
   "execution_count": 28,
   "id": "ec4eb778",
   "metadata": {},
   "outputs": [],
   "source": [
    "D_bar = np.mean(D)\n",
    "S_D = np.std(D,ddof=1)"
   ]
  },
  {
   "cell_type": "code",
   "execution_count": 29,
   "id": "9f2d0fea",
   "metadata": {},
   "outputs": [],
   "source": [
    "#1: Ho: stress level reduced\n",
    "# Ho: mu of D (X1 - X2) <= 0\n",
    "# Ha: mu of D (X1 - X2) > 0"
   ]
  },
  {
   "cell_type": "code",
   "execution_count": 30,
   "id": "25bc223d",
   "metadata": {},
   "outputs": [],
   "source": [
    "t_crit = stats.t.isf(0.05,df=8-1)"
   ]
  },
  {
   "cell_type": "code",
   "execution_count": 31,
   "id": "71bdd99f",
   "metadata": {},
   "outputs": [
    {
     "data": {
      "text/plain": [
       "2.3683900698953306"
      ]
     },
     "execution_count": 31,
     "metadata": {},
     "output_type": "execute_result"
    }
   ],
   "source": [
    "n = 8\n",
    "t = (D_bar - 0)/(S_D/np.sqrt(n))\n",
    "t"
   ]
  },
  {
   "cell_type": "code",
   "execution_count": 32,
   "id": "dbc0bb4b",
   "metadata": {},
   "outputs": [
    {
     "data": {
      "text/plain": [
       "0.024861906929184347"
      ]
     },
     "execution_count": 32,
     "metadata": {},
     "output_type": "execute_result"
    }
   ],
   "source": [
    "pval = stats.t.sf(t,df=n-1)\n",
    "pval"
   ]
  },
  {
   "cell_type": "code",
   "execution_count": null,
   "id": "83353da2",
   "metadata": {},
   "outputs": [],
   "source": []
  }
 ],
 "metadata": {
  "kernelspec": {
   "display_name": "Python 3 (ipykernel)",
   "language": "python",
   "name": "python3"
  },
  "language_info": {
   "codemirror_mode": {
    "name": "ipython",
    "version": 3
   },
   "file_extension": ".py",
   "mimetype": "text/x-python",
   "name": "python",
   "nbconvert_exporter": "python",
   "pygments_lexer": "ipython3",
   "version": "3.9.7"
  }
 },
 "nbformat": 4,
 "nbformat_minor": 5
}
