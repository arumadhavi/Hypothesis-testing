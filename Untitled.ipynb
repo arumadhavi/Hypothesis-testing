{
 "cells": [
  {
   "cell_type": "code",
   "execution_count": 1,
   "id": "2081791c",
   "metadata": {},
   "outputs": [],
   "source": [
    "import numpy as np\n",
    "from scipy import stats"
   ]
  },
  {
   "cell_type": "code",
   "execution_count": 8,
   "id": "94370c33",
   "metadata": {},
   "outputs": [],
   "source": [
    "sample_data = np.random.normal(size=20)"
   ]
  },
  {
   "cell_type": "code",
   "execution_count": 9,
   "id": "d543c2e2",
   "metadata": {},
   "outputs": [
    {
     "data": {
      "text/plain": [
       "ShapiroResult(statistic=0.9747746586799622, pvalue=0.8506579995155334)"
      ]
     },
     "execution_count": 9,
     "metadata": {},
     "output_type": "execute_result"
    }
   ],
   "source": [
    "stats.shapiro(sample_data)"
   ]
  },
  {
   "cell_type": "code",
   "execution_count": 12,
   "id": "3343b212",
   "metadata": {},
   "outputs": [],
   "source": [
    "sample_data = np.random.uniform(low=0,high=10,size=20)"
   ]
  },
  {
   "cell_type": "code",
   "execution_count": 13,
   "id": "cc17bba6",
   "metadata": {},
   "outputs": [
    {
     "data": {
      "text/plain": [
       "ShapiroResult(statistic=0.8866425156593323, pvalue=0.023341571912169456)"
      ]
     },
     "execution_count": 13,
     "metadata": {},
     "output_type": "execute_result"
    }
   ],
   "source": [
    "stats.shapiro(sample_data)"
   ]
  },
  {
   "cell_type": "markdown",
   "id": "92bb8606",
   "metadata": {},
   "source": [
    "A UPS mfr claims their device outputs avg of 230 v. A sample of 100 readings shows mean of 231 v and stdev of 1 v. Test this claim using 0.05 significance level."
   ]
  },
  {
   "cell_type": "code",
   "execution_count": 18,
   "id": "e182e05d",
   "metadata": {},
   "outputs": [
    {
     "data": {
      "text/plain": [
       "10.0"
      ]
     },
     "execution_count": 18,
     "metadata": {},
     "output_type": "execute_result"
    }
   ],
   "source": [
    "# [1] hypotheses:\n",
    "# Ho: mu of output = 230 vs Ha: mu of output <> 230 {two tail test}\n",
    "# [2] decision criteria: alpha = 0.05\n",
    "alpha = 0.05\n",
    "# critical value, test statistic is Z since sample is more than 30\n",
    "Z_alpha_by2 = stats.norm.ppf(alpha/2)\n",
    "# [3] test statistic Z = (x_bar - muo)/(s/sqrt(n))\n",
    "z = (231 - 230)/(1/np.sqrt(100))\n",
    "z"
   ]
  },
  {
   "cell_type": "code",
   "execution_count": 19,
   "id": "ec640016",
   "metadata": {},
   "outputs": [
    {
     "data": {
      "text/plain": [
       "1.0"
      ]
     },
     "execution_count": 19,
     "metadata": {},
     "output_type": "execute_result"
    }
   ],
   "source": [
    "# [4] p value\n",
    "stats.norm.cdf(z)"
   ]
  },
  {
   "cell_type": "code",
   "execution_count": 20,
   "id": "3f603401",
   "metadata": {},
   "outputs": [],
   "source": [
    "# p value is two times the right area from this z\n",
    "pval = 2*stats.norm.sf(z)"
   ]
  },
  {
   "cell_type": "code",
   "execution_count": 21,
   "id": "b3a0cbdc",
   "metadata": {},
   "outputs": [
    {
     "data": {
      "text/plain": [
       "1.523970604832094e-23"
      ]
     },
     "execution_count": 21,
     "metadata": {},
     "output_type": "execute_result"
    }
   ],
   "source": [
    "pval "
   ]
  },
  {
   "cell_type": "code",
   "execution_count": 22,
   "id": "e4c6bc87",
   "metadata": {},
   "outputs": [],
   "source": [
    "# decision\n",
    "# critical value method\n",
    "# since z was greater than z critical, reject Ho\n",
    "# pval method\n",
    "# since pval was less than alpha, reject Ho\n"
   ]
  },
  {
   "cell_type": "code",
   "execution_count": 23,
   "id": "ec6d28e5",
   "metadata": {},
   "outputs": [],
   "source": [
    "# based on the evidence, we can infer that the mfr's claim is not true"
   ]
  },
  {
   "cell_type": "code",
   "execution_count": null,
   "id": "3442e364",
   "metadata": {},
   "outputs": [],
   "source": []
  }
 ],
 "metadata": {
  "kernelspec": {
   "display_name": "Python 3 (ipykernel)",
   "language": "python",
   "name": "python3"
  },
  "language_info": {
   "codemirror_mode": {
    "name": "ipython",
    "version": 3
   },
   "file_extension": ".py",
   "mimetype": "text/x-python",
   "name": "python",
   "nbconvert_exporter": "python",
   "pygments_lexer": "ipython3",
   "version": "3.9.7"
  }
 },
 "nbformat": 4,
 "nbformat_minor": 5
}
