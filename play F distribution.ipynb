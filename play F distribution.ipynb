{
 "cells": [
  {
   "cell_type": "code",
   "execution_count": 7,
   "id": "b5f1aeaa",
   "metadata": {},
   "outputs": [],
   "source": [
    "import numpy as np\n",
    "from scipy import stats\n",
    "import seaborn as sns"
   ]
  },
  {
   "cell_type": "code",
   "execution_count": 8,
   "id": "70b19987",
   "metadata": {},
   "outputs": [],
   "source": [
    "chisqdf15 = np.random.chisquare(df=15,size=10000)\n",
    "chisqdf6 = np.random.chisquare(df=6,size=10000)\n",
    "f_156 = (chisqdf15/15)/(chisqdf6/6)"
   ]
  },
  {
   "cell_type": "code",
   "execution_count": 9,
   "id": "4472b1d0",
   "metadata": {},
   "outputs": [],
   "source": [
    "f_df156 = np.random.f(dfnum=15,dfden=6,size=10000)"
   ]
  },
  {
   "cell_type": "code",
   "execution_count": 10,
   "id": "bba530be",
   "metadata": {},
   "outputs": [
    {
     "name": "stderr",
     "output_type": "stream",
     "text": [
      "C:\\Anaconda3\\lib\\site-packages\\seaborn\\distributions.py:2619: FutureWarning: `distplot` is a deprecated function and will be removed in a future version. Please adapt your code to use either `displot` (a figure-level function with similar flexibility) or `histplot` (an axes-level function for histograms).\n",
      "  warnings.warn(msg, FutureWarning)\n",
      "C:\\Anaconda3\\lib\\site-packages\\seaborn\\distributions.py:2619: FutureWarning: `distplot` is a deprecated function and will be removed in a future version. Please adapt your code to use either `displot` (a figure-level function with similar flexibility) or `histplot` (an axes-level function for histograms).\n",
      "  warnings.warn(msg, FutureWarning)\n"
     ]
    },
    {
     "data": {
      "text/plain": [
       "<AxesSubplot:ylabel='Density'>"
      ]
     },
     "execution_count": 10,
     "metadata": {},
     "output_type": "execute_result"
    },
    {
     "data": {
      "image/png": "[encoded data removed]",
      "text/plain": [
       "<Figure size 432x288 with 1 Axes>"
      ]
     },
     "metadata": {
      "needs_background": "light"
     },
     "output_type": "display_data"
    }
   ],
   "source": [
    "sns.distplot(f_156)\n",
    "sns.distplot(f_df156)"
   ]
  },
  {
   "cell_type": "code",
   "execution_count": 11,
   "id": "874587e7",
   "metadata": {},
   "outputs": [
    {
     "data": {
      "text/plain": [
       "0.46059800395073264"
      ]
     },
     "execution_count": 11,
     "metadata": {},
     "output_type": "execute_result"
    }
   ],
   "source": [
    "stats.f.cdf(1,dfn=15,dfd=6)"
   ]
  },
  {
   "cell_type": "code",
   "execution_count": 12,
   "id": "2228d374",
   "metadata": {},
   "outputs": [
    {
     "data": {
      "text/plain": [
       "(0.0, inf)"
      ]
     },
     "execution_count": 12,
     "metadata": {},
     "output_type": "execute_result"
    }
   ],
   "source": [
    "stats.f.ppf(0,dfn=15,dfd=6), stats.f.isf(0,dfn=15,dfd=6)"
   ]
  },
  {
   "cell_type": "code",
   "execution_count": 13,
   "id": "7473bd93",
   "metadata": {},
   "outputs": [
    {
     "data": {
      "text/plain": [
       "0.004229906674598204"
      ]
     },
     "execution_count": 13,
     "metadata": {},
     "output_type": "execute_result"
    }
   ],
   "source": [
    "stats.f.sf(3.1,dfn=24,dfd=23)"
   ]
  },
  {
   "cell_type": "code",
   "execution_count": null,
   "id": "e1a6771a",
   "metadata": {},
   "outputs": [],
   "source": []
  }
 ],
 "metadata": {
  "kernelspec": {
   "display_name": "Python 3 (ipykernel)",
   "language": "python",
   "name": "python3"
  },
  "language_info": {
   "codemirror_mode": {
    "name": "ipython",
    "version": 3
   },
   "file_extension": ".py",
   "mimetype": "text/x-python",
   "name": "python",
   "nbconvert_exporter": "python",
   "pygments_lexer": "ipython3",
   "version": "3.9.7"
  }
 },
 "nbformat": 4,
 "nbformat_minor": 5
}
