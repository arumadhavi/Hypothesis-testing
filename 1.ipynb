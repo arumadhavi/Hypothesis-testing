{
 "cells": [
  {
   "cell_type": "code",
   "execution_count": null,
   "id": "5fcc639c",
   "metadata": {},
   "outputs": [],
   "source": [
    "# code snippets that may be useful\n",
    "\n",
    "# !pip install xlrd\n",
    "# df = pd.read_excel('sample.xlsx', sheet_name='sheet2')\n",
    "\n",
    "# stats.norm.cdf(zscore)\n",
    "# stats.t.cdf(tscore, df=df)\n",
    "\n",
    "# stats.norm.ppf(probability)\n",
    "# stats.t.ppf(probability, df=df)\n",
    "\n",
    "# chi_square_stat, p_value = stats.chisquare(observed_values, f_exp=expected_values)\n",
    "\n",
    "# chi_sq_Stat, p_value, deg_freedom, exp_freq = stats.chi2_contingency(quality_array, correction=False)\n",
    "\n",
    "\n",
    "# f_test, p_val = stats.f_oneway(sectionA, sectionB, sectionC)\n",
    "\n",
    "#mod = ols('marks ~ section', data = marks_df).fit()\n",
    "#aov_table = sm.stats.anova_lm(mod, typ=2)\n",
    "#print(aov_table)"
   ]
  },
  {
   "cell_type": "code",
   "execution_count": 1,
   "id": "6a0b9c4a",
   "metadata": {},
   "outputs": [],
   "source": [
    "# import libraries\n",
    "import numpy as np\n",
    "import pandas as pd\n",
    "from scipy import stats\n",
    "\n",
    "# ANOVA\n",
    "import statsmodels.api         as     sm\n",
    "from   statsmodels.formula.api import ols"
   ]
  },
  {
   "cell_type": "markdown",
   "id": "6603fa31",
   "metadata": {},
   "source": [
    "[Q1] A cable internet service provider ran two campaigns. In one they offered one month free if the subscriber paid for 6 months. In another they offered two months free if the subscriber paid for 12 months. Data relating to both campaigns are in the data workbook sheets q1 and q11.\n",
    "Using formal methods, test if they were both equally effective in winning customers."
   ]
  },
  {
   "cell_type": "markdown",
   "id": "8310aeb5",
   "metadata": {},
   "source": [
    "here we will go **chi_sqaure test for inpendence** to check if grade are dependent on mode of education\n",
    "\n",
    "#Null hypo -        \n",
    "h0: Response to Campaigns 1 and 2 is equal in obs and expected\n",
    "\n",
    "#Alternamte hypo -  \n",
    "h1:Response to Campaigns 1 and 2 not equal in obs and expected\n",
    "\n",
    "using right tail chi_sqr test for conformation"
   ]
  },
  {
   "cell_type": "code",
   "execution_count": 45,
   "id": "2def13e3",
   "metadata": {},
   "outputs": [
    {
     "data": {
      "text/html": [
       "<div>\n",
       "<style scoped>\n",
       "    .dataframe tbody tr th:only-of-type {\n",
       "        vertical-align: middle;\n",
       "    }\n",
       "\n",
       "    .dataframe tbody tr th {\n",
       "        vertical-align: top;\n",
       "    }\n",
       "\n",
       "    .dataframe thead th {\n",
       "        text-align: right;\n",
       "    }\n",
       "</style>\n",
       "<table border=\"1\" class=\"dataframe\">\n",
       "  <thead>\n",
       "    <tr style=\"text-align: right;\">\n",
       "      <th></th>\n",
       "      <th>agent_id</th>\n",
       "      <th>region</th>\n",
       "      <th>pitch</th>\n",
       "      <th>result</th>\n",
       "    </tr>\n",
       "  </thead>\n",
       "  <tbody>\n",
       "    <tr>\n",
       "      <th>0</th>\n",
       "      <td>1429</td>\n",
       "      <td>N</td>\n",
       "      <td>pay for 6 months, get 1 month free</td>\n",
       "      <td>N</td>\n",
       "    </tr>\n",
       "    <tr>\n",
       "      <th>1</th>\n",
       "      <td>1047</td>\n",
       "      <td>N</td>\n",
       "      <td>pay for 6 months, get 1 month free</td>\n",
       "      <td>N</td>\n",
       "    </tr>\n",
       "    <tr>\n",
       "      <th>2</th>\n",
       "      <td>1356</td>\n",
       "      <td>W</td>\n",
       "      <td>pay for 6 months, get 1 month free</td>\n",
       "      <td>AcceptedOffer</td>\n",
       "    </tr>\n",
       "    <tr>\n",
       "      <th>3</th>\n",
       "      <td>1230</td>\n",
       "      <td>W</td>\n",
       "      <td>pay for 6 months, get 1 month free</td>\n",
       "      <td>N</td>\n",
       "    </tr>\n",
       "    <tr>\n",
       "      <th>4</th>\n",
       "      <td>1818</td>\n",
       "      <td>E</td>\n",
       "      <td>pay for 6 months, get 1 month free</td>\n",
       "      <td>N</td>\n",
       "    </tr>\n",
       "  </tbody>\n",
       "</table>\n",
       "</div>"
      ],
      "text/plain": [
       "   agent_id region                               pitch         result\n",
       "0      1429      N  pay for 6 months, get 1 month free              N\n",
       "1      1047      N  pay for 6 months, get 1 month free              N\n",
       "2      1356      W  pay for 6 months, get 1 month free  AcceptedOffer\n",
       "3      1230      W  pay for 6 months, get 1 month free              N\n",
       "4      1818      E  pay for 6 months, get 1 month free              N"
      ]
     },
     "execution_count": 45,
     "metadata": {},
     "output_type": "execute_result"
    }
   ],
   "source": [
    "data1=pd.read_excel(\"midterm_data.xlsx\")\n",
    "data1.head()"
   ]
  },
  {
   "cell_type": "code",
   "execution_count": 46,
   "id": "5942bef8",
   "metadata": {},
   "outputs": [
    {
     "data": {
      "text/html": [
       "<div>\n",
       "<style scoped>\n",
       "    .dataframe tbody tr th:only-of-type {\n",
       "        vertical-align: middle;\n",
       "    }\n",
       "\n",
       "    .dataframe tbody tr th {\n",
       "        vertical-align: top;\n",
       "    }\n",
       "\n",
       "    .dataframe thead th {\n",
       "        text-align: right;\n",
       "    }\n",
       "</style>\n",
       "<table border=\"1\" class=\"dataframe\">\n",
       "  <thead>\n",
       "    <tr style=\"text-align: right;\">\n",
       "      <th></th>\n",
       "      <th>agent_id</th>\n",
       "      <th>region</th>\n",
       "      <th>pitch</th>\n",
       "      <th>result</th>\n",
       "    </tr>\n",
       "  </thead>\n",
       "  <tbody>\n",
       "    <tr>\n",
       "      <th>0</th>\n",
       "      <td>1013</td>\n",
       "      <td>S</td>\n",
       "      <td>pay for 12 months, get 2 months free</td>\n",
       "      <td>N</td>\n",
       "    </tr>\n",
       "    <tr>\n",
       "      <th>1</th>\n",
       "      <td>1042</td>\n",
       "      <td>E</td>\n",
       "      <td>pay for 12 months, get 2 months free</td>\n",
       "      <td>N</td>\n",
       "    </tr>\n",
       "    <tr>\n",
       "      <th>2</th>\n",
       "      <td>1044</td>\n",
       "      <td>E</td>\n",
       "      <td>pay for 12 months, get 2 months free</td>\n",
       "      <td>N</td>\n",
       "    </tr>\n",
       "    <tr>\n",
       "      <th>3</th>\n",
       "      <td>1052</td>\n",
       "      <td>N</td>\n",
       "      <td>pay for 12 months, get 2 months free</td>\n",
       "      <td>N</td>\n",
       "    </tr>\n",
       "    <tr>\n",
       "      <th>4</th>\n",
       "      <td>1074</td>\n",
       "      <td>N</td>\n",
       "      <td>pay for 12 months, get 2 months free</td>\n",
       "      <td>N</td>\n",
       "    </tr>\n",
       "  </tbody>\n",
       "</table>\n",
       "</div>"
      ],
      "text/plain": [
       "   agent_id region                                 pitch result\n",
       "0      1013      S  pay for 12 months, get 2 months free      N\n",
       "1      1042      E  pay for 12 months, get 2 months free      N\n",
       "2      1044      E  pay for 12 months, get 2 months free      N\n",
       "3      1052      N  pay for 12 months, get 2 months free      N\n",
       "4      1074      N  pay for 12 months, get 2 months free      N"
      ]
     },
     "execution_count": 46,
     "metadata": {},
     "output_type": "execute_result"
    }
   ],
   "source": [
    "data2 = pd.read_excel('midterm_data.xlsx', sheet_name = 'q11')                 \n",
    "data2.head()"
   ]
  },
  {
   "cell_type": "code",
   "execution_count": 47,
   "id": "8b29c69b",
   "metadata": {},
   "outputs": [
    {
     "data": {
      "text/plain": [
       "117"
      ]
     },
     "execution_count": 47,
     "metadata": {},
     "output_type": "execute_result"
    }
   ],
   "source": [
    "p=pd.concat([data1,data2],axis=0)\n",
    "len(p)"
   ]
  },
  {
   "cell_type": "code",
   "execution_count": 48,
   "id": "2331014f",
   "metadata": {},
   "outputs": [
    {
     "data": {
      "text/html": [
       "<div>\n",
       "<style scoped>\n",
       "    .dataframe tbody tr th:only-of-type {\n",
       "        vertical-align: middle;\n",
       "    }\n",
       "\n",
       "    .dataframe tbody tr th {\n",
       "        vertical-align: top;\n",
       "    }\n",
       "\n",
       "    .dataframe thead th {\n",
       "        text-align: right;\n",
       "    }\n",
       "</style>\n",
       "<table border=\"1\" class=\"dataframe\">\n",
       "  <thead>\n",
       "    <tr style=\"text-align: right;\">\n",
       "      <th>result</th>\n",
       "      <th>AcceptedOffer</th>\n",
       "      <th>N</th>\n",
       "    </tr>\n",
       "    <tr>\n",
       "      <th>pitch</th>\n",
       "      <th></th>\n",
       "      <th></th>\n",
       "    </tr>\n",
       "  </thead>\n",
       "  <tbody>\n",
       "    <tr>\n",
       "      <th>pay for 12 months, get 2 months free</th>\n",
       "      <td>12</td>\n",
       "      <td>44</td>\n",
       "    </tr>\n",
       "    <tr>\n",
       "      <th>pay for 6 months, get 1 month free</th>\n",
       "      <td>19</td>\n",
       "      <td>42</td>\n",
       "    </tr>\n",
       "  </tbody>\n",
       "</table>\n",
       "</div>"
      ],
      "text/plain": [
       "result                                AcceptedOffer   N\n",
       "pitch                                                  \n",
       "pay for 12 months, get 2 months free             12  44\n",
       "pay for 6 months, get 1 month free               19  42"
      ]
     },
     "execution_count": 48,
     "metadata": {},
     "output_type": "execute_result"
    }
   ],
   "source": [
    "pd.crosstab(p.pitch,p.result)"
   ]
  },
  {
   "cell_type": "code",
   "execution_count": 49,
   "id": "76ae96dd",
   "metadata": {},
   "outputs": [
    {
     "data": {
      "text/plain": [
       "[[12, 44], [19, 42]]"
      ]
     },
     "execution_count": 49,
     "metadata": {},
     "output_type": "execute_result"
    }
   ],
   "source": [
    "chi_array1 = ([[12,44],[19,42]])\n",
    "chi_array1"
   ]
  },
  {
   "cell_type": "code",
   "execution_count": 50,
   "id": "e795c772",
   "metadata": {},
   "outputs": [],
   "source": [
    "obs1 = [12,44]\n",
    "obs2 = [19,42]\n",
    "exp1 = [31*(56/117), 86*(56/117)]\n",
    "exp2 = [31*(61/117), 86*(61/117)]"
   ]
  },
  {
   "cell_type": "code",
   "execution_count": 53,
   "id": "3f058a8b",
   "metadata": {},
   "outputs": [
    {
     "data": {
      "text/plain": [
       "([14.837606837606838, 41.162393162393165],\n",
       " [16.162393162393162, 44.83760683760684])"
      ]
     },
     "execution_count": 53,
     "metadata": {},
     "output_type": "execute_result"
    }
   ],
   "source": [
    "exp1, exp2"
   ]
  },
  {
   "cell_type": "code",
   "execution_count": 51,
   "id": "d8e3e0b2",
   "metadata": {},
   "outputs": [],
   "source": [
    "exp_val=np.append(exp1,exp2)\n",
    "obs_val=np.append(obs1,obs2)"
   ]
  },
  {
   "cell_type": "code",
   "execution_count": 55,
   "id": "7a30f8b8",
   "metadata": {},
   "outputs": [
    {
     "data": {
      "text/plain": [
       "1.4160677171634832"
      ]
     },
     "execution_count": 55,
     "metadata": {},
     "output_type": "execute_result"
    }
   ],
   "source": [
    "sum3=0\n",
    "for i in range(len(obs_val)):\n",
    "    a2=((obs_val[i]-exp_val[i])**2/exp_val[i])\n",
    "    sum3+=a2\n",
    "chi2_stat3=sum3\n",
    "chi2_stat3"
   ]
  },
  {
   "cell_type": "code",
   "execution_count": 68,
   "id": "1fc3d7fb",
   "metadata": {},
   "outputs": [
    {
     "data": {
      "text/plain": [
       "1.4184453055642299"
      ]
     },
     "execution_count": 68,
     "metadata": {},
     "output_type": "execute_result"
    }
   ],
   "source": [
    "#Calculating the Chi square statistic \n",
    "import numpy as np \n",
    "o1 = np.array([19,42])\n",
    "o2 = np.array([12,44])\n",
    "e1 = np.array([16.16,44.84])\n",
    "e2 = np.array([14.84,41.16])\n",
    "a = (o1-e1)**2/e1\n",
    "b = (o2-e2)**2/e2\n",
    "chi2_stat3 = np.sum(a)+np.sum(b) #This is the chi square statistic we got \n",
    "chi2_stat3"
   ]
  },
  {
   "cell_type": "code",
   "execution_count": 61,
   "id": "a2b6b394",
   "metadata": {},
   "outputs": [
    {
     "data": {
      "text/plain": [
       "3.8414588206941285"
      ]
     },
     "execution_count": 61,
     "metadata": {},
     "output_type": "execute_result"
    }
   ],
   "source": [
    "chi2_cri = stats.chi2.isf(0.05, df=1) #(2-1)(2-1)\n",
    "chi2_cri "
   ]
  },
  {
   "cell_type": "code",
   "execution_count": 67,
   "id": "fc4894a8",
   "metadata": {},
   "outputs": [
    {
     "data": {
      "text/plain": [
       "0.30411193171110124"
      ]
     },
     "execution_count": 67,
     "metadata": {},
     "output_type": "execute_result"
    }
   ],
   "source": [
    "aalpha = 0.05\n",
    "p_val1 = stats.chi2.sf(1.418, 1)\n",
    "p_val"
   ]
  },
  {
   "cell_type": "code",
   "execution_count": 66,
   "id": "7d2cb8eb",
   "metadata": {},
   "outputs": [
    {
     "name": "stdout",
     "output_type": "stream",
     "text": [
      "Chi-square statistic 1.41607 P value 0.234052 Degrees of freedom 1\n"
     ]
    }
   ],
   "source": [
    "# python library\n",
    "chi_sq_Stat, p_value, deg_freedom, exp_freq = stats.chi2_contingency(chi_array1, correction=False)\n",
    "\n",
    "print('Chi-square statistic %3.5f P value %1.6f Degrees of freedom %d' %(chi_sq_Stat, p_value,deg_freedom))"
   ]
  },
  {
   "cell_type": "code",
   "execution_count": null,
   "id": "bcc1fc33",
   "metadata": {},
   "outputs": [],
   "source": [
    "**Decision**\n",
    "\n",
    "As chi_square_stat < chi_c in right tail test, the sample falls in acceptance zone. Hence we cannot reject null hypothesis\n",
    "\n",
    "Also as p_value < alpha in right tail test, the sample falls in acceptance zone. Hence we cannot reject null hypothesis\n",
    "\n",
    "both campigine equally effective in winning customers."
   ]
  },
  {
   "cell_type": "code",
   "execution_count": null,
   "id": "e3bac0ee",
   "metadata": {},
   "outputs": [],
   "source": []
  },
  {
   "cell_type": "markdown",
   "id": "8473ce44",
   "metadata": {},
   "source": [
    "[Q2] The agents of the cable internet company are required to make phone calls to customers and offer them deals and win subscriptions. A metric in this process is the number of calls made per day. Initially the agents were paid fixed salary without any incentives for winning new customers. The management recently changed this and offered incentives to the agents hoping they will make more calls per day. This information is available in sheet q2. The columns are Calls_Salary and Calls_Incentive for each agent.\n",
    "\n",
    "You are required to test if the change in payment to include incentives for winning customers has increased the number of calls made per day."
   ]
  },
  {
   "cell_type": "code",
   "execution_count": 69,
   "id": "2556cac3",
   "metadata": {},
   "outputs": [
    {
     "data": {
      "text/html": [
       "<div>\n",
       "<style scoped>\n",
       "    .dataframe tbody tr th:only-of-type {\n",
       "        vertical-align: middle;\n",
       "    }\n",
       "\n",
       "    .dataframe tbody tr th {\n",
       "        vertical-align: top;\n",
       "    }\n",
       "\n",
       "    .dataframe thead th {\n",
       "        text-align: right;\n",
       "    }\n",
       "</style>\n",
       "<table border=\"1\" class=\"dataframe\">\n",
       "  <thead>\n",
       "    <tr style=\"text-align: right;\">\n",
       "      <th></th>\n",
       "      <th>agent_id</th>\n",
       "      <th>Calls_Salary</th>\n",
       "      <th>Calls_Incentive</th>\n",
       "    </tr>\n",
       "  </thead>\n",
       "  <tbody>\n",
       "    <tr>\n",
       "      <th>0</th>\n",
       "      <td>1429</td>\n",
       "      <td>8</td>\n",
       "      <td>11</td>\n",
       "    </tr>\n",
       "    <tr>\n",
       "      <th>1</th>\n",
       "      <td>1047</td>\n",
       "      <td>7</td>\n",
       "      <td>10</td>\n",
       "    </tr>\n",
       "    <tr>\n",
       "      <th>2</th>\n",
       "      <td>1356</td>\n",
       "      <td>9</td>\n",
       "      <td>12</td>\n",
       "    </tr>\n",
       "    <tr>\n",
       "      <th>3</th>\n",
       "      <td>1230</td>\n",
       "      <td>10</td>\n",
       "      <td>7</td>\n",
       "    </tr>\n",
       "    <tr>\n",
       "      <th>4</th>\n",
       "      <td>1818</td>\n",
       "      <td>7</td>\n",
       "      <td>14</td>\n",
       "    </tr>\n",
       "  </tbody>\n",
       "</table>\n",
       "</div>"
      ],
      "text/plain": [
       "   agent_id  Calls_Salary  Calls_Incentive\n",
       "0      1429             8               11\n",
       "1      1047             7               10\n",
       "2      1356             9               12\n",
       "3      1230            10                7\n",
       "4      1818             7               14"
      ]
     },
     "execution_count": 69,
     "metadata": {},
     "output_type": "execute_result"
    }
   ],
   "source": [
    "data3 = pd.read_excel('midterm_data.xlsx', sheet_name = 'q2')                 \n",
    "data3.head()"
   ]
  },
  {
   "cell_type": "code",
   "execution_count": null,
   "id": "82e9ad55",
   "metadata": {},
   "outputs": [],
   "source": [
    "#Let mu_1 be the average number of calls per day initially.\n",
    "#mu_2 be the average calls per day after incentives\n",
    "\n",
    "# H0 : mu_1 - mu_2 >= 0\n",
    "# H1 : mu_1 - mu_2 < 0   # incentives for winning customers has increased the average number of calls"
   ]
  },
  {
   "cell_type": "code",
   "execution_count": 85,
   "id": "461082ce",
   "metadata": {},
   "outputs": [
    {
     "data": {
      "text/plain": [
       "(59, 3)"
      ]
     },
     "execution_count": 85,
     "metadata": {},
     "output_type": "execute_result"
    }
   ],
   "source": [
    "data3.shape"
   ]
  },
  {
   "cell_type": "code",
   "execution_count": 87,
   "id": "0c1ce0d9",
   "metadata": {},
   "outputs": [
    {
     "data": {
      "text/plain": [
       "array([-3, -3, -3,  3, -7, -1, -7, -4,  1, -3, -3, -5, -4, -4, -3, -4, -3,\n",
       "       -7, -5, -6, -7, -4,  0,  0, -4, -4, -2, -6, -6, -5,  1, -6,  2, -6,\n",
       "       -1, -3, -4, -2, -5, -2, -5, -7,  2, -5, -3, -7, -1, -6, -6, -4, -7,\n",
       "       -6, -3, -3,  0, -3, -6, -8,  2], dtype=int64)"
      ]
     },
     "execution_count": 87,
     "metadata": {},
     "output_type": "execute_result"
    }
   ],
   "source": [
    "x1 = np.array(data3[\"Calls_Salary\"])  #Calls before incentives\n",
    "x2 = np.array(data3[\"Calls_Incentive\"])   #Calls after incentives  \n",
    "D = x1 - x2\n",
    "D"
   ]
  },
  {
   "cell_type": "code",
   "execution_count": 88,
   "id": "aafca115",
   "metadata": {},
   "outputs": [],
   "source": [
    "n = len(D)"
   ]
  },
  {
   "cell_type": "code",
   "execution_count": 89,
   "id": "751a5ea6",
   "metadata": {},
   "outputs": [],
   "source": [
    "D_bar = np.mean(D)\n",
    "S_D = np.std(D,ddof=1)"
   ]
  },
  {
   "cell_type": "code",
   "execution_count": 90,
   "id": "fbbb199c",
   "metadata": {},
   "outputs": [
    {
     "data": {
      "text/plain": [
       "-1.6715527621536728"
      ]
     },
     "execution_count": 90,
     "metadata": {},
     "output_type": "execute_result"
    }
   ],
   "source": [
    "t_crit = stats.t.ppf(0.05,df=n-1)  #left tailed test\n",
    "t_crit"
   ]
  },
  {
   "cell_type": "code",
   "execution_count": 91,
   "id": "a001e561",
   "metadata": {},
   "outputs": [
    {
     "data": {
      "text/plain": [
       "-10.252069705503347"
      ]
     },
     "execution_count": 91,
     "metadata": {},
     "output_type": "execute_result"
    }
   ],
   "source": [
    "t = (D_bar - 0)/(S_D/np.sqrt(n))\n",
    "t"
   ]
  },
  {
   "cell_type": "code",
   "execution_count": 92,
   "id": "47959e33",
   "metadata": {},
   "outputs": [
    {
     "data": {
      "text/plain": [
       "6.119313351322935e-15"
      ]
     },
     "execution_count": 92,
     "metadata": {},
     "output_type": "execute_result"
    }
   ],
   "source": [
    "pval = stats.t.cdf(t,df=n-1)\n",
    "pval"
   ]
  },
  {
   "cell_type": "code",
   "execution_count": null,
   "id": "35e0f93d",
   "metadata": {},
   "outputs": [],
   "source": []
  },
  {
   "cell_type": "code",
   "execution_count": null,
   "id": "77ed96dc",
   "metadata": {},
   "outputs": [],
   "source": []
  },
  {
   "cell_type": "markdown",
   "id": "ed9b5820",
   "metadata": {},
   "source": [
    "**Decision**\n",
    "\n",
    "* As t < tc in left tail test, the samples lie in rejection zone. Hence we reject the null hypothesis.\n",
    "* as p_value < alpha in left tail test, the samples lie in rejection zone. Hence we reject the null hypothesis.\n",
    "* Hence the impact of incentives is statistically significant for winning customers and has increased the average number of calls"
   ]
  },
  {
   "cell_type": "code",
   "execution_count": null,
   "id": "fb7c66d0",
   "metadata": {},
   "outputs": [],
   "source": []
  },
  {
   "cell_type": "markdown",
   "id": "ffb0ddae",
   "metadata": {},
   "source": [
    "[Q3] University requires grades to be distributed according to their norms:\n",
    "A (5%), B(30%), C(50%), D(10%), F(5%) \n",
    "For a recent exam, the grades were as given in sheet q3.\n",
    "\n",
    "Test if this follows the norms."
   ]
  },
  {
   "cell_type": "markdown",
   "id": "a4fc07ae",
   "metadata": {},
   "source": [
    "here we will go **chi_sqaure goodness of fit test** to check if our observed values fits the expected probablity distribution\n",
    "\n",
    "#Null hypo -        \n",
    "h0: Observed grade distribution is similar to Expected grade distribution.\n",
    "\n",
    "#Alternamte hypo -  \n",
    "h1:Observed grade distribution is not similar to Expected grade distribution.\n",
    "\n",
    "using right tail chi_sqr test for conformation"
   ]
  },
  {
   "cell_type": "code",
   "execution_count": 5,
   "id": "fe095cb1",
   "metadata": {},
   "outputs": [
    {
     "data": {
      "text/html": [
       "<div>\n",
       "<style scoped>\n",
       "    .dataframe tbody tr th:only-of-type {\n",
       "        vertical-align: middle;\n",
       "    }\n",
       "\n",
       "    .dataframe tbody tr th {\n",
       "        vertical-align: top;\n",
       "    }\n",
       "\n",
       "    .dataframe thead th {\n",
       "        text-align: right;\n",
       "    }\n",
       "</style>\n",
       "<table border=\"1\" class=\"dataframe\">\n",
       "  <thead>\n",
       "    <tr style=\"text-align: right;\">\n",
       "      <th></th>\n",
       "      <th>rollnumber</th>\n",
       "      <th>mode</th>\n",
       "      <th>grade</th>\n",
       "    </tr>\n",
       "  </thead>\n",
       "  <tbody>\n",
       "    <tr>\n",
       "      <th>0</th>\n",
       "      <td>1</td>\n",
       "      <td>Classroom</td>\n",
       "      <td>D</td>\n",
       "    </tr>\n",
       "    <tr>\n",
       "      <th>1</th>\n",
       "      <td>2</td>\n",
       "      <td>Classroom</td>\n",
       "      <td>F</td>\n",
       "    </tr>\n",
       "    <tr>\n",
       "      <th>2</th>\n",
       "      <td>3</td>\n",
       "      <td>Classroom</td>\n",
       "      <td>C</td>\n",
       "    </tr>\n",
       "    <tr>\n",
       "      <th>3</th>\n",
       "      <td>4</td>\n",
       "      <td>Classroom</td>\n",
       "      <td>C</td>\n",
       "    </tr>\n",
       "    <tr>\n",
       "      <th>4</th>\n",
       "      <td>5</td>\n",
       "      <td>Classroom</td>\n",
       "      <td>A</td>\n",
       "    </tr>\n",
       "  </tbody>\n",
       "</table>\n",
       "</div>"
      ],
      "text/plain": [
       "   rollnumber       mode grade\n",
       "0           1  Classroom     D\n",
       "1           2  Classroom     F\n",
       "2           3  Classroom     C\n",
       "3           4  Classroom     C\n",
       "4           5  Classroom     A"
      ]
     },
     "execution_count": 5,
     "metadata": {},
     "output_type": "execute_result"
    }
   ],
   "source": [
    "data4 = pd.read_excel('midterm_data.xlsx', sheet_name = 'q3')                 \n",
    "data4.head()"
   ]
  },
  {
   "cell_type": "code",
   "execution_count": 9,
   "id": "b898fe47",
   "metadata": {},
   "outputs": [
    {
     "data": {
      "text/plain": [
       "35"
      ]
     },
     "execution_count": 9,
     "metadata": {},
     "output_type": "execute_result"
    }
   ],
   "source": [
    "n = len(data4)\n",
    "n"
   ]
  },
  {
   "cell_type": "code",
   "execution_count": 7,
   "id": "98840a4c",
   "metadata": {},
   "outputs": [
    {
     "data": {
      "text/html": [
       "<div>\n",
       "<style scoped>\n",
       "    .dataframe tbody tr th:only-of-type {\n",
       "        vertical-align: middle;\n",
       "    }\n",
       "\n",
       "    .dataframe tbody tr th {\n",
       "        vertical-align: top;\n",
       "    }\n",
       "\n",
       "    .dataframe thead th {\n",
       "        text-align: right;\n",
       "    }\n",
       "</style>\n",
       "<table border=\"1\" class=\"dataframe\">\n",
       "  <thead>\n",
       "    <tr style=\"text-align: right;\">\n",
       "      <th></th>\n",
       "      <th>rollnumber</th>\n",
       "    </tr>\n",
       "    <tr>\n",
       "      <th>grade</th>\n",
       "      <th></th>\n",
       "    </tr>\n",
       "  </thead>\n",
       "  <tbody>\n",
       "    <tr>\n",
       "      <th>A</th>\n",
       "      <td>6</td>\n",
       "    </tr>\n",
       "    <tr>\n",
       "      <th>B</th>\n",
       "      <td>5</td>\n",
       "    </tr>\n",
       "    <tr>\n",
       "      <th>C</th>\n",
       "      <td>9</td>\n",
       "    </tr>\n",
       "    <tr>\n",
       "      <th>D</th>\n",
       "      <td>8</td>\n",
       "    </tr>\n",
       "    <tr>\n",
       "      <th>F</th>\n",
       "      <td>7</td>\n",
       "    </tr>\n",
       "  </tbody>\n",
       "</table>\n",
       "</div>"
      ],
      "text/plain": [
       "       rollnumber\n",
       "grade            \n",
       "A               6\n",
       "B               5\n",
       "C               9\n",
       "D               8\n",
       "F               7"
      ]
     },
     "execution_count": 7,
     "metadata": {},
     "output_type": "execute_result"
    }
   ],
   "source": [
    "s1 = data4[[\"rollnumber\",\"grade\"]].groupby([\"grade\"]).count()\n",
    "s1"
   ]
  },
  {
   "cell_type": "code",
   "execution_count": 10,
   "id": "cbf99772",
   "metadata": {},
   "outputs": [],
   "source": [
    "obs_grade = [6,5,9,8,7]\n",
    "exp_grade = [0.05*n, 0.30*n, 0.50*n, 0.10*n, 0.05*n]"
   ]
  },
  {
   "cell_type": "code",
   "execution_count": 15,
   "id": "7b8e841c",
   "metadata": {},
   "outputs": [
    {
     "data": {
      "text/plain": [
       "9.487729036781158"
      ]
     },
     "execution_count": 15,
     "metadata": {},
     "output_type": "execute_result"
    }
   ],
   "source": [
    "chi_c = stats.chi2.isf(0.05, df = 5-1)\n",
    "chi_c"
   ]
  },
  {
   "cell_type": "code",
   "execution_count": 16,
   "id": "78859529",
   "metadata": {},
   "outputs": [],
   "source": [
    "sum1=0\n",
    "for i in range(len(obs_grade)):\n",
    "    a1=((obs_grade[i]-exp_grade[i])**2/exp_grade[i])   # formula\n",
    "    sum1+=a1\n",
    "chi2_stat1=sum1"
   ]
  },
  {
   "cell_type": "code",
   "execution_count": 17,
   "id": "41583db8",
   "metadata": {},
   "outputs": [
    {
     "data": {
      "text/plain": [
       "38.86666666666667"
      ]
     },
     "execution_count": 17,
     "metadata": {},
     "output_type": "execute_result"
    }
   ],
   "source": [
    "chi2_stat1"
   ]
  },
  {
   "cell_type": "code",
   "execution_count": 21,
   "id": "c63f09e0",
   "metadata": {},
   "outputs": [
    {
     "data": {
      "text/plain": [
       "7.422495206977314e-08"
      ]
     },
     "execution_count": 21,
     "metadata": {},
     "output_type": "execute_result"
    }
   ],
   "source": [
    "p_val = stats.chi2.sf(38.866666, df = 5-1)\n",
    "p_val"
   ]
  },
  {
   "cell_type": "code",
   "execution_count": 11,
   "id": "684f4973",
   "metadata": {},
   "outputs": [],
   "source": [
    "#python libabry\n",
    "chi_square_stat, p_value = stats.chisquare(obs_grade, f_exp=exp_grade)"
   ]
  },
  {
   "cell_type": "code",
   "execution_count": 12,
   "id": "c90d26b1",
   "metadata": {},
   "outputs": [
    {
     "data": {
      "text/plain": [
       "38.86666666666667"
      ]
     },
     "execution_count": 12,
     "metadata": {},
     "output_type": "execute_result"
    }
   ],
   "source": [
    "chi_square_stat"
   ]
  },
  {
   "cell_type": "code",
   "execution_count": 13,
   "id": "33eac6fa",
   "metadata": {},
   "outputs": [
    {
     "data": {
      "text/plain": [
       "7.422492853897377e-08"
      ]
     },
     "execution_count": 13,
     "metadata": {},
     "output_type": "execute_result"
    }
   ],
   "source": [
    "p_value"
   ]
  },
  {
   "cell_type": "markdown",
   "id": "040115a3",
   "metadata": {},
   "source": [
    "**Decision**\n",
    "\n",
    "As chi_square_stat > chi_c in right tail test, the sample lie in rejection zone. Hence we reject null hypothesis\n",
    "\n",
    "Also as p_value < alpha in right tail test, the sample lie in rejection zone. Hence we reject null hypothesis\n",
    "\n",
    "This sample fails to meet the norms"
   ]
  },
  {
   "cell_type": "code",
   "execution_count": null,
   "id": "73f8cefa",
   "metadata": {},
   "outputs": [],
   "source": []
  },
  {
   "cell_type": "markdown",
   "id": "9c9f590e",
   "metadata": {},
   "source": [
    "[Q4] There are keen discussions about online vs classroom in various segments of the society. Using the data in sheet q3, test if performance of students is impacted by the mode of engagement."
   ]
  },
  {
   "cell_type": "markdown",
   "id": "c95a5d09",
   "metadata": {},
   "source": [
    "here we will go **chi_sqaure test for inpendence** to check if grade are dependent on mode of education\n",
    "\n",
    "#Null hypo -        \n",
    "h0: grades are independent of mode of eduaction\n",
    "\n",
    "#Alternamte hypo -  \n",
    "h1:rades are not independent of mode of education\n",
    "\n",
    "using right tail chi_sqr test for conformation"
   ]
  },
  {
   "cell_type": "code",
   "execution_count": 17,
   "id": "5dfd526e",
   "metadata": {},
   "outputs": [
    {
     "data": {
      "text/html": [
       "<div>\n",
       "<style scoped>\n",
       "    .dataframe tbody tr th:only-of-type {\n",
       "        vertical-align: middle;\n",
       "    }\n",
       "\n",
       "    .dataframe tbody tr th {\n",
       "        vertical-align: top;\n",
       "    }\n",
       "\n",
       "    .dataframe thead th {\n",
       "        text-align: right;\n",
       "    }\n",
       "</style>\n",
       "<table border=\"1\" class=\"dataframe\">\n",
       "  <thead>\n",
       "    <tr style=\"text-align: right;\">\n",
       "      <th></th>\n",
       "      <th>rollnumber</th>\n",
       "      <th>mode</th>\n",
       "      <th>grade</th>\n",
       "    </tr>\n",
       "  </thead>\n",
       "  <tbody>\n",
       "    <tr>\n",
       "      <th>0</th>\n",
       "      <td>1</td>\n",
       "      <td>Classroom</td>\n",
       "      <td>D</td>\n",
       "    </tr>\n",
       "    <tr>\n",
       "      <th>1</th>\n",
       "      <td>2</td>\n",
       "      <td>Classroom</td>\n",
       "      <td>F</td>\n",
       "    </tr>\n",
       "    <tr>\n",
       "      <th>2</th>\n",
       "      <td>3</td>\n",
       "      <td>Classroom</td>\n",
       "      <td>C</td>\n",
       "    </tr>\n",
       "    <tr>\n",
       "      <th>3</th>\n",
       "      <td>4</td>\n",
       "      <td>Classroom</td>\n",
       "      <td>C</td>\n",
       "    </tr>\n",
       "    <tr>\n",
       "      <th>4</th>\n",
       "      <td>5</td>\n",
       "      <td>Classroom</td>\n",
       "      <td>A</td>\n",
       "    </tr>\n",
       "  </tbody>\n",
       "</table>\n",
       "</div>"
      ],
      "text/plain": [
       "   rollnumber       mode grade\n",
       "0           1  Classroom     D\n",
       "1           2  Classroom     F\n",
       "2           3  Classroom     C\n",
       "3           4  Classroom     C\n",
       "4           5  Classroom     A"
      ]
     },
     "execution_count": 17,
     "metadata": {},
     "output_type": "execute_result"
    }
   ],
   "source": [
    "\n",
    "data4 = pd.read_excel('midterm_data.xlsx', sheet_name = 'q3')                 \n",
    "data4.head()"
   ]
  },
  {
   "cell_type": "code",
   "execution_count": 23,
   "id": "61c48653",
   "metadata": {},
   "outputs": [
    {
     "data": {
      "text/html": [
       "<div>\n",
       "<style scoped>\n",
       "    .dataframe tbody tr th:only-of-type {\n",
       "        vertical-align: middle;\n",
       "    }\n",
       "\n",
       "    .dataframe tbody tr th {\n",
       "        vertical-align: top;\n",
       "    }\n",
       "\n",
       "    .dataframe thead th {\n",
       "        text-align: right;\n",
       "    }\n",
       "</style>\n",
       "<table border=\"1\" class=\"dataframe\">\n",
       "  <thead>\n",
       "    <tr style=\"text-align: right;\">\n",
       "      <th></th>\n",
       "      <th></th>\n",
       "      <th>rollnumber</th>\n",
       "    </tr>\n",
       "    <tr>\n",
       "      <th>grade</th>\n",
       "      <th>mode</th>\n",
       "      <th></th>\n",
       "    </tr>\n",
       "  </thead>\n",
       "  <tbody>\n",
       "    <tr>\n",
       "      <th>A</th>\n",
       "      <th>Classroom</th>\n",
       "      <td>6</td>\n",
       "    </tr>\n",
       "    <tr>\n",
       "      <th rowspan=\"2\" valign=\"top\">B</th>\n",
       "      <th>Classroom</th>\n",
       "      <td>3</td>\n",
       "    </tr>\n",
       "    <tr>\n",
       "      <th>Online</th>\n",
       "      <td>2</td>\n",
       "    </tr>\n",
       "    <tr>\n",
       "      <th rowspan=\"2\" valign=\"top\">C</th>\n",
       "      <th>Classroom</th>\n",
       "      <td>5</td>\n",
       "    </tr>\n",
       "    <tr>\n",
       "      <th>Online</th>\n",
       "      <td>4</td>\n",
       "    </tr>\n",
       "    <tr>\n",
       "      <th rowspan=\"2\" valign=\"top\">D</th>\n",
       "      <th>Classroom</th>\n",
       "      <td>5</td>\n",
       "    </tr>\n",
       "    <tr>\n",
       "      <th>Online</th>\n",
       "      <td>3</td>\n",
       "    </tr>\n",
       "    <tr>\n",
       "      <th rowspan=\"2\" valign=\"top\">F</th>\n",
       "      <th>Classroom</th>\n",
       "      <td>6</td>\n",
       "    </tr>\n",
       "    <tr>\n",
       "      <th>Online</th>\n",
       "      <td>1</td>\n",
       "    </tr>\n",
       "  </tbody>\n",
       "</table>\n",
       "</div>"
      ],
      "text/plain": [
       "                 rollnumber\n",
       "grade mode                 \n",
       "A     Classroom           6\n",
       "B     Classroom           3\n",
       "      Online              2\n",
       "C     Classroom           5\n",
       "      Online              4\n",
       "D     Classroom           5\n",
       "      Online              3\n",
       "F     Classroom           6\n",
       "      Online              1"
      ]
     },
     "execution_count": 23,
     "metadata": {},
     "output_type": "execute_result"
    }
   ],
   "source": [
    "s2 = data4[[\"rollnumber\",\"grade\", \"mode\"]].groupby([\"grade\", \"mode\"]).count()\n",
    "s2"
   ]
  },
  {
   "cell_type": "code",
   "execution_count": 26,
   "id": "65dbd8f3",
   "metadata": {},
   "outputs": [
    {
     "data": {
      "text/plain": [
       "35"
      ]
     },
     "execution_count": 26,
     "metadata": {},
     "output_type": "execute_result"
    }
   ],
   "source": [
    "len(data4)"
   ]
  },
  {
   "cell_type": "code",
   "execution_count": 41,
   "id": "51415be3",
   "metadata": {},
   "outputs": [
    {
     "data": {
      "text/plain": [
       "array([[6, 0],\n",
       "       [3, 2],\n",
       "       [5, 4],\n",
       "       [5, 3],\n",
       "       [6, 1]])"
      ]
     },
     "execution_count": 41,
     "metadata": {},
     "output_type": "execute_result"
    }
   ],
   "source": [
    "chi_array = np.array([[6,0],[3,2],[5,4],[5,3],[6,1]])\n",
    "chi_array\n"
   ]
  },
  {
   "cell_type": "code",
   "execution_count": 24,
   "id": "11f21de7",
   "metadata": {},
   "outputs": [],
   "source": [
    "obs_classroom = [6,3,5,5,6]\n",
    "obs_online = [0,2,4,3,1]"
   ]
  },
  {
   "cell_type": "code",
   "execution_count": 27,
   "id": "0279e11f",
   "metadata": {},
   "outputs": [],
   "source": [
    "exp_classroom = [25*(6/35), 25*(5/35), 25*(9/35), 25*(8/35), 25*(7/35)]\n",
    "exp_online = [10*(6/35), 10*(5/35), 10*(9/35), 10*(8/35), 10*(7/35)]"
   ]
  },
  {
   "cell_type": "code",
   "execution_count": 28,
   "id": "b8d93904",
   "metadata": {},
   "outputs": [
    {
     "data": {
      "text/plain": [
       "[4.285714285714286,\n",
       " 3.571428571428571,\n",
       " 6.428571428571428,\n",
       " 5.714285714285714,\n",
       " 5.0]"
      ]
     },
     "execution_count": 28,
     "metadata": {},
     "output_type": "execute_result"
    }
   ],
   "source": [
    "exp_classroom"
   ]
  },
  {
   "cell_type": "code",
   "execution_count": 29,
   "id": "c457393d",
   "metadata": {},
   "outputs": [
    {
     "data": {
      "text/plain": [
       "[1.7142857142857144,\n",
       " 1.4285714285714284,\n",
       " 2.571428571428571,\n",
       " 2.2857142857142856,\n",
       " 2.0]"
      ]
     },
     "execution_count": 29,
     "metadata": {},
     "output_type": "execute_result"
    }
   ],
   "source": [
    "exp_online"
   ]
  },
  {
   "cell_type": "code",
   "execution_count": 32,
   "id": "cc0586e4",
   "metadata": {},
   "outputs": [],
   "source": [
    "exp_val=np.append(exp_classroom,exp_online)\n",
    "obs_val=np.append(obs_classroom,obs_online)"
   ]
  },
  {
   "cell_type": "code",
   "execution_count": 33,
   "id": "49441208",
   "metadata": {},
   "outputs": [],
   "source": [
    "sum2=0\n",
    "for i in range(len(obs_val)):\n",
    "    a2=((obs_val[i]-exp_val[i])**2/exp_val[i])\n",
    "    sum2+=a2\n",
    "chi2_stat2=sum2"
   ]
  },
  {
   "cell_type": "code",
   "execution_count": 34,
   "id": "dcbf348e",
   "metadata": {},
   "outputs": [
    {
     "data": {
      "text/plain": [
       "4.8436111111111115"
      ]
     },
     "execution_count": 34,
     "metadata": {},
     "output_type": "execute_result"
    }
   ],
   "source": [
    "chi2_stat2"
   ]
  },
  {
   "cell_type": "code",
   "execution_count": 37,
   "id": "5ab7e086",
   "metadata": {},
   "outputs": [
    {
     "data": {
      "text/plain": [
       "9.487729036781158"
      ]
     },
     "execution_count": 37,
     "metadata": {},
     "output_type": "execute_result"
    }
   ],
   "source": [
    "chi2_c = stats.chi2.isf(0.05, df=1*4)\n",
    "chi2_c"
   ]
  },
  {
   "cell_type": "code",
   "execution_count": 39,
   "id": "3d46c6cb",
   "metadata": {},
   "outputs": [
    {
     "data": {
      "text/plain": [
       "0.30411193171110124"
      ]
     },
     "execution_count": 39,
     "metadata": {},
     "output_type": "execute_result"
    }
   ],
   "source": [
    "p_val = stats.chi2.sf(4.84, df= 4)\n",
    "p_val"
   ]
  },
  {
   "cell_type": "code",
   "execution_count": 30,
   "id": "516c2dc2",
   "metadata": {},
   "outputs": [],
   "source": [
    "\n",
    "obs_a = np.array([6,0])\n",
    "obs_b = np.array([3,2])\n",
    "obs_c = np.array([5,4])\n",
    "obs_d = np.array([5,3])\n",
    "obs_f = np.array([6,1])\n",
    "exp_a = np.array([4.28,1.72])\n",
    "exp_b = np.array([3.57, 1.43])\n",
    "exp_c = np.array([6.43,2.57])\n",
    "exp_d = np.array([5.71,2.29])\n",
    "exp_f = np.array([5,2])"
   ]
  },
  {
   "cell_type": "code",
   "execution_count": 35,
   "id": "784760d8",
   "metadata": {},
   "outputs": [
    {
     "data": {
      "text/plain": [
       "4.851546688197964"
      ]
     },
     "execution_count": 35,
     "metadata": {},
     "output_type": "execute_result"
    }
   ],
   "source": [
    "a = (obs_a - exp_a)**2/exp_a\n",
    "b = (obs_b - exp_b)**2/exp_b\n",
    "c = (obs_c - exp_c)**2/exp_c\n",
    "d = (obs_d - exp_d)**2/exp_d\n",
    "f = (obs_f - exp_f)**2/exp_f\n",
    "np.sum(a)+np.sum(b)+np.sum(c)+np.sum(d)+np.sum(f)"
   ]
  },
  {
   "cell_type": "code",
   "execution_count": 43,
   "id": "b60d7b87",
   "metadata": {},
   "outputs": [
    {
     "name": "stdout",
     "output_type": "stream",
     "text": [
      "Chi-square statistic 4.84361 P value 0.303724 Degrees of freedom 4\n"
     ]
    }
   ],
   "source": [
    "# python library\n",
    "chi_sq_Stat, p_value, deg_freedom, exp_freq = stats.chi2_contingency(chi_array, correction=False)\n",
    "\n",
    "print('Chi-square statistic %3.5f P value %1.6f Degrees of freedom %d' %(chi_sq_Stat, p_value,deg_freedom))"
   ]
  },
  {
   "cell_type": "markdown",
   "id": "d67e2a80",
   "metadata": {},
   "source": [
    "**Decision**\n",
    "\n",
    "As chi_square_stat < chi_c in right tail test, the sample falls in acceptance zone. Hence we cannot reject null hypothesis\n",
    "\n",
    "Also as p_value < alpha in right tail test, the sample falls in acceptance zone. Hence we cannot reject null hypothesis\n",
    "\n",
    "students is not impacted by the mode of engagement."
   ]
  },
  {
   "cell_type": "markdown",
   "id": "1793308f",
   "metadata": {},
   "source": [
    "[Q5] The university conducted a course in three centeres and assigned the same question paper. The VC  wants to compare performance of the three batches. Refer to sheet q5 to answer this query."
   ]
  },
  {
   "cell_type": "code",
   "execution_count": 70,
   "id": "6f64ef5a",
   "metadata": {},
   "outputs": [
    {
     "data": {
      "text/html": [
       "<div>\n",
       "<style scoped>\n",
       "    .dataframe tbody tr th:only-of-type {\n",
       "        vertical-align: middle;\n",
       "    }\n",
       "\n",
       "    .dataframe tbody tr th {\n",
       "        vertical-align: top;\n",
       "    }\n",
       "\n",
       "    .dataframe thead th {\n",
       "        text-align: right;\n",
       "    }\n",
       "</style>\n",
       "<table border=\"1\" class=\"dataframe\">\n",
       "  <thead>\n",
       "    <tr style=\"text-align: right;\">\n",
       "      <th></th>\n",
       "      <th>batch</th>\n",
       "      <th>rollnum</th>\n",
       "      <th>marks</th>\n",
       "    </tr>\n",
       "  </thead>\n",
       "  <tbody>\n",
       "    <tr>\n",
       "      <th>0</th>\n",
       "      <td>1</td>\n",
       "      <td>1</td>\n",
       "      <td>84</td>\n",
       "    </tr>\n",
       "    <tr>\n",
       "      <th>1</th>\n",
       "      <td>1</td>\n",
       "      <td>2</td>\n",
       "      <td>69</td>\n",
       "    </tr>\n",
       "    <tr>\n",
       "      <th>2</th>\n",
       "      <td>1</td>\n",
       "      <td>3</td>\n",
       "      <td>74</td>\n",
       "    </tr>\n",
       "    <tr>\n",
       "      <th>3</th>\n",
       "      <td>1</td>\n",
       "      <td>4</td>\n",
       "      <td>89</td>\n",
       "    </tr>\n",
       "    <tr>\n",
       "      <th>4</th>\n",
       "      <td>1</td>\n",
       "      <td>5</td>\n",
       "      <td>92</td>\n",
       "    </tr>\n",
       "  </tbody>\n",
       "</table>\n",
       "</div>"
      ],
      "text/plain": [
       "   batch  rollnum  marks\n",
       "0      1        1     84\n",
       "1      1        2     69\n",
       "2      1        3     74\n",
       "3      1        4     89\n",
       "4      1        5     92"
      ]
     },
     "execution_count": 70,
     "metadata": {},
     "output_type": "execute_result"
    }
   ],
   "source": [
    "data5 = pd.read_excel('midterm_data.xlsx', sheet_name = 'q5')                 \n",
    "data5.head()"
   ]
  },
  {
   "cell_type": "code",
   "execution_count": 71,
   "id": "adddabf9",
   "metadata": {},
   "outputs": [
    {
     "data": {
      "text/html": [
       "<div>\n",
       "<style scoped>\n",
       "    .dataframe tbody tr th:only-of-type {\n",
       "        vertical-align: middle;\n",
       "    }\n",
       "\n",
       "    .dataframe tbody tr th {\n",
       "        vertical-align: top;\n",
       "    }\n",
       "\n",
       "    .dataframe thead th {\n",
       "        text-align: right;\n",
       "    }\n",
       "</style>\n",
       "<table border=\"1\" class=\"dataframe\">\n",
       "  <thead>\n",
       "    <tr style=\"text-align: right;\">\n",
       "      <th></th>\n",
       "      <th>batch</th>\n",
       "      <th>rollnum</th>\n",
       "      <th>marks</th>\n",
       "    </tr>\n",
       "  </thead>\n",
       "  <tbody>\n",
       "    <tr>\n",
       "      <th>88</th>\n",
       "      <td>3</td>\n",
       "      <td>26</td>\n",
       "      <td>84</td>\n",
       "    </tr>\n",
       "    <tr>\n",
       "      <th>89</th>\n",
       "      <td>3</td>\n",
       "      <td>27</td>\n",
       "      <td>76</td>\n",
       "    </tr>\n",
       "    <tr>\n",
       "      <th>90</th>\n",
       "      <td>3</td>\n",
       "      <td>28</td>\n",
       "      <td>55</td>\n",
       "    </tr>\n",
       "    <tr>\n",
       "      <th>91</th>\n",
       "      <td>3</td>\n",
       "      <td>29</td>\n",
       "      <td>61</td>\n",
       "    </tr>\n",
       "    <tr>\n",
       "      <th>92</th>\n",
       "      <td>3</td>\n",
       "      <td>30</td>\n",
       "      <td>67</td>\n",
       "    </tr>\n",
       "  </tbody>\n",
       "</table>\n",
       "</div>"
      ],
      "text/plain": [
       "    batch  rollnum  marks\n",
       "88      3       26     84\n",
       "89      3       27     76\n",
       "90      3       28     55\n",
       "91      3       29     61\n",
       "92      3       30     67"
      ]
     },
     "execution_count": 71,
     "metadata": {},
     "output_type": "execute_result"
    }
   ],
   "source": [
    "data5.tail()"
   ]
  },
  {
   "cell_type": "code",
   "execution_count": null,
   "id": "3543c53d",
   "metadata": {},
   "outputs": [],
   "source": [
    "Here we have 3 batches and we want to compare thier means \n",
    "we will be using annova to compare their means\n",
    "\n",
    "#Null hypo -        \n",
    "h0: average marks of all these are equal\n",
    "#Alternamte hypo -  .\n",
    "h1:average marks of all abtches are not equal(any one can also be different from other)\n",
    "    \n",
    "using f test which is right tail test"
   ]
  },
  {
   "cell_type": "code",
   "execution_count": 72,
   "id": "15f03dbb",
   "metadata": {},
   "outputs": [],
   "source": [
    "batch1_marks=np.array(data5.marks[data5.batch==1])\n",
    "batch2_marks=np.array(data5.marks[data5.batch==2])\n",
    "batch3_marks=np.array(data5.marks[data5.batch==3])"
   ]
  },
  {
   "cell_type": "code",
   "execution_count": 73,
   "id": "4e3e405b",
   "metadata": {},
   "outputs": [
    {
     "data": {
      "text/plain": [
       "array([84, 69, 74, 89, 92, 71, 89, 94, 66, 63, 63, 79, 64, 55, 75, 64, 57,\n",
       "       67, 68, 58, 60, 56, 54, 90, 61, 82, 80, 69, 81, 86, 59],\n",
       "      dtype=int64)"
      ]
     },
     "execution_count": 73,
     "metadata": {},
     "output_type": "execute_result"
    }
   ],
   "source": [
    "batch1_marks"
   ]
  },
  {
   "cell_type": "code",
   "execution_count": 74,
   "id": "7173dc3d",
   "metadata": {},
   "outputs": [
    {
     "data": {
      "text/plain": [
       "array([59, 91, 83, 51, 83, 69, 80, 55, 87, 68, 85, 91, 93, 73, 55, 79, 93,\n",
       "       70, 51, 76, 76, 73, 81, 83, 65, 84, 64, 79, 70, 51, 78, 91],\n",
       "      dtype=int64)"
      ]
     },
     "execution_count": 74,
     "metadata": {},
     "output_type": "execute_result"
    }
   ],
   "source": [
    "batch2_marks"
   ]
  },
  {
   "cell_type": "code",
   "execution_count": 75,
   "id": "7bb1fe9e",
   "metadata": {},
   "outputs": [
    {
     "data": {
      "text/plain": [
       "array([80, 87, 91, 70, 75, 68, 78, 61, 78, 62, 93, 75, 79, 88, 70, 94, 67,\n",
       "       62, 79, 50, 75, 73, 74, 78, 91, 84, 76, 55, 61, 67], dtype=int64)"
      ]
     },
     "execution_count": 75,
     "metadata": {},
     "output_type": "execute_result"
    }
   ],
   "source": [
    "batch3_marks"
   ]
  },
  {
   "cell_type": "code",
   "execution_count": 77,
   "id": "d172cb2a",
   "metadata": {},
   "outputs": [
    {
     "data": {
      "text/plain": [
       "ShapiroResult(statistic=0.9348101615905762, pvalue=0.05935411900281906)"
      ]
     },
     "execution_count": 77,
     "metadata": {},
     "output_type": "execute_result"
    }
   ],
   "source": [
    "# normality tests\n",
    "stats.shapiro(batch1_marks) #P-value is slightly greater than 0.05 so null is accepted - its a normal distribution"
   ]
  },
  {
   "cell_type": "code",
   "execution_count": 78,
   "id": "a83659d6",
   "metadata": {},
   "outputs": [
    {
     "data": {
      "text/plain": [
       "ShapiroResult(statistic=0.9366849064826965, pvalue=0.06031687557697296)"
      ]
     },
     "execution_count": 78,
     "metadata": {},
     "output_type": "execute_result"
    }
   ],
   "source": [
    "stats.shapiro(batch2_marks)"
   ]
  },
  {
   "cell_type": "code",
   "execution_count": 79,
   "id": "e5a0e29e",
   "metadata": {},
   "outputs": [
    {
     "data": {
      "text/plain": [
       "ShapiroResult(statistic=0.9750015139579773, pvalue=0.6827733516693115)"
      ]
     },
     "execution_count": 79,
     "metadata": {},
     "output_type": "execute_result"
    }
   ],
   "source": [
    "stats.shapiro(batch3_marks)"
   ]
  },
  {
   "cell_type": "code",
   "execution_count": 81,
   "id": "8bc9f88b",
   "metadata": {},
   "outputs": [
    {
     "data": {
      "text/plain": [
       "LeveneResult(statistic=0.5645287972235011, pvalue=0.57062837923048)"
      ]
     },
     "execution_count": 81,
     "metadata": {},
     "output_type": "execute_result"
    }
   ],
   "source": [
    "#import scipy\n",
    "stats.levene(batch1_marks,batch2_marks,batch3_marks) #Null accepted, they have same variance "
   ]
  },
  {
   "cell_type": "code",
   "execution_count": 82,
   "id": "60ef6286",
   "metadata": {},
   "outputs": [],
   "source": [
    "f_test, p_val = stats.f_oneway(batch1_marks, batch2_marks, batch3_marks)"
   ]
  },
  {
   "cell_type": "code",
   "execution_count": 83,
   "id": "3cbf3c08",
   "metadata": {},
   "outputs": [
    {
     "data": {
      "text/plain": [
       "0.6534623826271031"
      ]
     },
     "execution_count": 83,
     "metadata": {},
     "output_type": "execute_result"
    }
   ],
   "source": [
    "f_test"
   ]
  },
  {
   "cell_type": "code",
   "execution_count": 84,
   "id": "cdb035b2",
   "metadata": {},
   "outputs": [
    {
     "data": {
      "text/plain": [
       "0.5226918265862517"
      ]
     },
     "execution_count": 84,
     "metadata": {},
     "output_type": "execute_result"
    }
   ],
   "source": [
    "p_val"
   ]
  },
  {
   "cell_type": "markdown",
   "id": "5f849828",
   "metadata": {},
   "source": [
    "as p_value>alpha we cannot reject our h0 that is average marks of all these are equal\n",
    "therefore average marks of all the batches are similar. there is no impact of centre on the marks scored."
   ]
  }
 ],
 "metadata": {
  "kernelspec": {
   "display_name": "Python 3 (ipykernel)",
   "language": "python",
   "name": "python3"
  },
  "language_info": {
   "codemirror_mode": {
    "name": "ipython",
    "version": 3
   },
   "file_extension": ".py",
   "mimetype": "text/x-python",
   "name": "python",
   "nbconvert_exporter": "python",
   "pygments_lexer": "ipython3",
   "version": "3.9.7"
  }
 },
 "nbformat": 4,
 "nbformat_minor": 5
}
