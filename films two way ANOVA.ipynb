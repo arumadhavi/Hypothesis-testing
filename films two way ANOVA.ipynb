{
 "cells": [
  {
   "cell_type": "code",
   "execution_count": 1,
   "metadata": {},
   "outputs": [],
   "source": [
    "import pandas as pd\n",
    "import statsmodels.api as sm\n",
    "from statsmodels.formula.api import ols"
   ]
  },
  {
   "cell_type": "code",
   "execution_count": 2,
   "metadata": {},
   "outputs": [
    {
     "data": {
      "text/html": [
       "<div>\n",
       "<style scoped>\n",
       "    .dataframe tbody tr th:only-of-type {\n",
       "        vertical-align: middle;\n",
       "    }\n",
       "\n",
       "    .dataframe tbody tr th {\n",
       "        vertical-align: top;\n",
       "    }\n",
       "\n",
       "    .dataframe thead th {\n",
       "        text-align: right;\n",
       "    }\n",
       "</style>\n",
       "<table border=\"1\" class=\"dataframe\">\n",
       "  <thead>\n",
       "    <tr style=\"text-align: right;\">\n",
       "      <th></th>\n",
       "      <th>hero</th>\n",
       "      <th>heroin</th>\n",
       "      <th>rating</th>\n",
       "    </tr>\n",
       "  </thead>\n",
       "  <tbody>\n",
       "    <tr>\n",
       "      <th>0</th>\n",
       "      <td>He1</td>\n",
       "      <td>She1</td>\n",
       "      <td>8</td>\n",
       "    </tr>\n",
       "    <tr>\n",
       "      <th>1</th>\n",
       "      <td>He1</td>\n",
       "      <td>She1</td>\n",
       "      <td>4</td>\n",
       "    </tr>\n",
       "    <tr>\n",
       "      <th>2</th>\n",
       "      <td>He1</td>\n",
       "      <td>She1</td>\n",
       "      <td>1</td>\n",
       "    </tr>\n",
       "    <tr>\n",
       "      <th>3</th>\n",
       "      <td>He1</td>\n",
       "      <td>She2</td>\n",
       "      <td>3</td>\n",
       "    </tr>\n",
       "    <tr>\n",
       "      <th>4</th>\n",
       "      <td>He1</td>\n",
       "      <td>She2</td>\n",
       "      <td>4</td>\n",
       "    </tr>\n",
       "    <tr>\n",
       "      <th>5</th>\n",
       "      <td>He1</td>\n",
       "      <td>She2</td>\n",
       "      <td>8</td>\n",
       "    </tr>\n",
       "    <tr>\n",
       "      <th>6</th>\n",
       "      <td>He2</td>\n",
       "      <td>She1</td>\n",
       "      <td>6</td>\n",
       "    </tr>\n",
       "    <tr>\n",
       "      <th>7</th>\n",
       "      <td>He2</td>\n",
       "      <td>She1</td>\n",
       "      <td>6</td>\n",
       "    </tr>\n",
       "    <tr>\n",
       "      <th>8</th>\n",
       "      <td>He2</td>\n",
       "      <td>She1</td>\n",
       "      <td>5</td>\n",
       "    </tr>\n",
       "    <tr>\n",
       "      <th>9</th>\n",
       "      <td>He2</td>\n",
       "      <td>She2</td>\n",
       "      <td>4</td>\n",
       "    </tr>\n",
       "    <tr>\n",
       "      <th>10</th>\n",
       "      <td>He2</td>\n",
       "      <td>She2</td>\n",
       "      <td>1</td>\n",
       "    </tr>\n",
       "    <tr>\n",
       "      <th>11</th>\n",
       "      <td>He2</td>\n",
       "      <td>She2</td>\n",
       "      <td>10</td>\n",
       "    </tr>\n",
       "    <tr>\n",
       "      <th>12</th>\n",
       "      <td>He3</td>\n",
       "      <td>She1</td>\n",
       "      <td>5</td>\n",
       "    </tr>\n",
       "    <tr>\n",
       "      <th>13</th>\n",
       "      <td>He3</td>\n",
       "      <td>She1</td>\n",
       "      <td>9</td>\n",
       "    </tr>\n",
       "    <tr>\n",
       "      <th>14</th>\n",
       "      <td>He3</td>\n",
       "      <td>She1</td>\n",
       "      <td>8</td>\n",
       "    </tr>\n",
       "    <tr>\n",
       "      <th>15</th>\n",
       "      <td>He3</td>\n",
       "      <td>She2</td>\n",
       "      <td>8</td>\n",
       "    </tr>\n",
       "    <tr>\n",
       "      <th>16</th>\n",
       "      <td>He3</td>\n",
       "      <td>She2</td>\n",
       "      <td>5</td>\n",
       "    </tr>\n",
       "    <tr>\n",
       "      <th>17</th>\n",
       "      <td>He3</td>\n",
       "      <td>She2</td>\n",
       "      <td>8</td>\n",
       "    </tr>\n",
       "  </tbody>\n",
       "</table>\n",
       "</div>"
      ],
      "text/plain": [
       "   hero heroin  rating\n",
       "0   He1   She1       8\n",
       "1   He1   She1       4\n",
       "2   He1   She1       1\n",
       "3   He1   She2       3\n",
       "4   He1   She2       4\n",
       "5   He1   She2       8\n",
       "6   He2   She1       6\n",
       "7   He2   She1       6\n",
       "8   He2   She1       5\n",
       "9   He2   She2       4\n",
       "10  He2   She2       1\n",
       "11  He2   She2      10\n",
       "12  He3   She1       5\n",
       "13  He3   She1       9\n",
       "14  He3   She1       8\n",
       "15  He3   She2       8\n",
       "16  He3   She2       5\n",
       "17  He3   She2       8"
      ]
     },
     "execution_count": 2,
     "metadata": {},
     "output_type": "execute_result"
    }
   ],
   "source": [
    "#data\n",
    "df = pd.read_csv(\"films.csv\")\n",
    "df.head()\n",
    "df"
   ]
  },
  {
   "cell_type": "code",
   "execution_count": 3,
   "metadata": {},
   "outputs": [
    {
     "data": {
      "text/plain": [
       "(18, 3)"
      ]
     },
     "execution_count": 3,
     "metadata": {},
     "output_type": "execute_result"
    }
   ],
   "source": [
    "df.shape"
   ]
  },
  {
   "cell_type": "code",
   "execution_count": 5,
   "metadata": {},
   "outputs": [
    {
     "name": "stdout",
     "output_type": "stream",
     "text": [
      "                      sum_sq    df         F    PR(>F)\n",
      "C(hero)            20.111111   2.0  1.256944  0.319437\n",
      "C(heroin)           0.055556   1.0  0.006944  0.934960\n",
      "C(hero):C(heroin)   1.444444   2.0  0.090278  0.914292\n",
      "Residual           96.000000  12.0       NaN       NaN\n"
     ]
    }
   ],
   "source": [
    "#perform two-way ANOVA\n",
    "model = ols('rating ~ C(hero) + C(heroin) + C(hero):C(heroin)', data=df).fit()\n",
    "aov_table = sm.stats.anova_lm(model, typ=2)\n",
    "print(aov_table)"
   ]
  },
  {
   "cell_type": "code",
   "execution_count": 8,
   "metadata": {},
   "outputs": [],
   "source": [
    "# or simply"
   ]
  },
  {
   "cell_type": "code",
   "execution_count": 5,
   "metadata": {},
   "outputs": [
    {
     "name": "stdout",
     "output_type": "stream",
     "text": [
      "               df     sum_sq    mean_sq         F    PR(>F)\n",
      "hero          2.0  20.111111  10.055556  1.256944  0.319437\n",
      "heroin        1.0   0.055556   0.055556  0.006944  0.934960\n",
      "hero:heroin   2.0   1.444444   0.722222  0.090278  0.914292\n",
      "Residual     12.0  96.000000   8.000000       NaN       NaN\n"
     ]
    }
   ],
   "source": [
    "#perform two-way ANOVA\n",
    "model = ols('rating ~ hero+heroin+hero:heroin', data=df).fit()\n",
    "aov_table = sm.stats.anova_lm(model)\n",
    "print(aov_table)"
   ]
  },
  {
   "cell_type": "code",
   "execution_count": 6,
   "metadata": {},
   "outputs": [
    {
     "name": "stdout",
     "output_type": "stream",
     "text": [
      "            df     sum_sq    mean_sq         F    PR(>F)\n",
      "hero       2.0  20.111111  10.055556  1.444698  0.268904\n",
      "heroin     1.0   0.055556   0.055556  0.007982  0.930077\n",
      "Residual  14.0  97.444444   6.960317       NaN       NaN\n"
     ]
    }
   ],
   "source": [
    "#perform two-way ANOVA without interaction\n",
    "model = ols('rating ~ hero+heroin', data=df).fit()\n",
    "aov_table = sm.stats.anova_lm(model)\n",
    "print(aov_table)"
   ]
  },
  {
   "cell_type": "code",
   "execution_count": null,
   "metadata": {},
   "outputs": [],
   "source": []
  }
 ],
 "metadata": {
  "kernelspec": {
   "display_name": "Python 3 (ipykernel)",
   "language": "python",
   "name": "python3"
  },
  "language_info": {
   "codemirror_mode": {
    "name": "ipython",
    "version": 3
   },
   "file_extension": ".py",
   "mimetype": "text/x-python",
   "name": "python",
   "nbconvert_exporter": "python",
   "pygments_lexer": "ipython3",
   "version": "3.9.7"
  }
 },
 "nbformat": 4,
 "nbformat_minor": 2
}
